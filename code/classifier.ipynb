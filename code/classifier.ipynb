{
 "cells": [
  {
   "cell_type": "markdown",
   "id": "63a1d61c-72f7-4cf3-a4ae-5e1bf0c64e68",
   "metadata": {},
   "source": [
    "# Pokemon Classifier\n",
    "## Imports and constants"
   ]
  },
  {
   "cell_type": "code",
   "execution_count": 1,
   "id": "d3e56ba5-fcc5-4f19-9db5-0bcb1523744a",
   "metadata": {
    "execution": {
     "iopub.execute_input": "2024-04-07T10:36:53.049729Z",
     "iopub.status.busy": "2024-04-07T10:36:53.049459Z",
     "iopub.status.idle": "2024-04-07T10:36:55.771721Z",
     "shell.execute_reply": "2024-04-07T10:36:55.771112Z",
     "shell.execute_reply.started": "2024-04-07T10:36:53.049701Z"
    },
    "tags": []
   },
   "outputs": [
    {
     "name": "stderr",
     "output_type": "stream",
     "text": [
      "2024-04-07 10:36:53.419768: I tensorflow/core/util/port.cc:113] oneDNN custom operations are on. You may see slightly different numerical results due to floating-point round-off errors from different computation orders. To turn them off, set the environment variable `TF_ENABLE_ONEDNN_OPTS=0`.\n",
      "2024-04-07 10:36:53.464447: E external/local_xla/xla/stream_executor/cuda/cuda_dnn.cc:9261] Unable to register cuDNN factory: Attempting to register factory for plugin cuDNN when one has already been registered\n",
      "2024-04-07 10:36:53.464473: E external/local_xla/xla/stream_executor/cuda/cuda_fft.cc:607] Unable to register cuFFT factory: Attempting to register factory for plugin cuFFT when one has already been registered\n",
      "2024-04-07 10:36:53.465592: E external/local_xla/xla/stream_executor/cuda/cuda_blas.cc:1515] Unable to register cuBLAS factory: Attempting to register factory for plugin cuBLAS when one has already been registered\n",
      "2024-04-07 10:36:53.472503: I tensorflow/core/platform/cpu_feature_guard.cc:182] This TensorFlow binary is optimized to use available CPU instructions in performance-critical operations.\n",
      "To enable the following instructions: AVX2 AVX512F AVX512_VNNI FMA, in other operations, rebuild TensorFlow with the appropriate compiler flags.\n",
      "2024-04-07 10:36:54.250796: W tensorflow/compiler/tf2tensorrt/utils/py_utils.cc:38] TF-TRT Warning: Could not find TensorRT\n"
     ]
    }
   ],
   "source": [
    "import os\n",
    "from PIL import Image\n",
    "import numpy as np\n",
    "from random import shuffle\n",
    "import tensorflow as tf\n",
    "from tensorflow.keras.models import Sequential\n",
    "from tensorflow.keras.layers import Conv2D, MaxPooling2D, Flatten, Dense, Dropout\n",
    "from sklearn.model_selection import train_test_split\n",
    "import matplotlib.pyplot as plt\n",
    "import csv\n",
    "\n",
    "train_dirs = ['batch1', 'batch2', 'batch3', 'batch4']\n",
    "dataset_folder = 'dataset'\n",
    "IMG_SIZE = 128\n",
    "MODEL_NAME = 'classifier.h5'"
   ]
  },
  {
   "cell_type": "markdown",
   "id": "4cf6be1c-f984-4994-9150-a9161e7770de",
   "metadata": {},
   "source": [
    "## Label images"
   ]
  },
  {
   "cell_type": "code",
   "execution_count": 2,
   "id": "d2cafdfc-2438-4197-950c-8a6ee11c6d73",
   "metadata": {
    "execution": {
     "iopub.execute_input": "2024-04-07T10:36:55.773506Z",
     "iopub.status.busy": "2024-04-07T10:36:55.773032Z",
     "iopub.status.idle": "2024-04-07T10:36:55.779214Z",
     "shell.execute_reply": "2024-04-07T10:36:55.778572Z",
     "shell.execute_reply.started": "2024-04-07T10:36:55.773479Z"
    },
    "tags": []
   },
   "outputs": [],
   "source": [
    "def label_img(img):\n",
    "    label = img.split('_gen_')[1].split('.')[0]\n",
    "    if   label == '1': return [1, 0, 0, 0, 0, 0, 0, 0, 0]\n",
    "    elif label == '2': return [0, 1, 0, 0, 0, 0, 0, 0, 0]\n",
    "    elif label == '3': return [0, 0, 1, 0, 0, 0, 0, 0, 0]\n",
    "    elif label == '4': return [0, 0, 0, 1, 0, 0, 0, 0, 0]\n",
    "    elif label == '5': return [0, 0, 0, 0, 1, 0, 0, 0, 0]\n",
    "    elif label == '6': return [0, 0, 0, 0, 0, 1, 0, 0, 0]\n",
    "    elif label == '7': return [0, 0, 0, 0, 0, 0, 1, 0, 0]\n",
    "    elif label == '8': return [0, 0, 0, 0, 0, 0, 0, 1, 0]\n",
    "    elif label == '9': return [0, 0, 0, 0, 0, 0, 0, 0, 1]"
   ]
  },
  {
   "cell_type": "markdown",
   "id": "fd55fa0a-eefe-4e15-9e39-5b19ba648b08",
   "metadata": {},
   "source": [
    "# Load data"
   ]
  },
  {
   "cell_type": "code",
   "execution_count": 3,
   "id": "72e98e4d-0101-4616-b653-b9d62615458b",
   "metadata": {
    "execution": {
     "iopub.execute_input": "2024-04-07T10:36:55.780317Z",
     "iopub.status.busy": "2024-04-07T10:36:55.780015Z",
     "iopub.status.idle": "2024-04-07T10:36:55.784515Z",
     "shell.execute_reply": "2024-04-07T10:36:55.783886Z",
     "shell.execute_reply.started": "2024-04-07T10:36:55.780295Z"
    },
    "tags": []
   },
   "outputs": [],
   "source": [
    "def load_data():\n",
    "    training_data = []\n",
    " \n",
    "    for directory in train_dirs:\n",
    "        for img in os.listdir(f'{dataset_folder}/{directory}'):\n",
    "            if '_gen_' not in img: continue\n",
    "\n",
    "            label = label_img(img)\n",
    "\n",
    "            path = os.path.join(f'{dataset_folder}/{directory}', img)\n",
    "            img = Image.open(path).convert('RGB')\n",
    "\n",
    "            training_data.append([np.array(img), np.array(label)])\n",
    "\n",
    "    return training_data"
   ]
  },
  {
   "cell_type": "markdown",
   "id": "91e569d2-0e4d-4a00-9b17-6bb7ca7ff817",
   "metadata": {},
   "source": [
    "## Classifier architecture"
   ]
  },
  {
   "cell_type": "code",
   "execution_count": 4,
   "id": "96ebcabd-c9d9-4ddc-a015-31a61da2bd6c",
   "metadata": {
    "execution": {
     "iopub.execute_input": "2024-04-07T10:36:55.785725Z",
     "iopub.status.busy": "2024-04-07T10:36:55.785441Z",
     "iopub.status.idle": "2024-04-07T10:36:56.560904Z",
     "shell.execute_reply": "2024-04-07T10:36:56.560255Z",
     "shell.execute_reply.started": "2024-04-07T10:36:55.785704Z"
    },
    "scrolled": true,
    "tags": []
   },
   "outputs": [
    {
     "name": "stderr",
     "output_type": "stream",
     "text": [
      "2024-04-07 10:36:55.946032: I external/local_xla/xla/stream_executor/cuda/cuda_executor.cc:901] successful NUMA node read from SysFS had negative value (-1), but there must be at least one NUMA node, so returning NUMA node zero. See more at https://github.com/torvalds/linux/blob/v6.0/Documentation/ABI/testing/sysfs-bus-pci#L344-L355\n"
     ]
    },
    {
     "name": "stdout",
     "output_type": "stream",
     "text": [
      "Model: \"sequential\"\n",
      "_________________________________________________________________\n",
      " Layer (type)                Output Shape              Param #   \n",
      "=================================================================\n",
      " conv2d (Conv2D)             (None, 126, 126, 32)      896       \n",
      "                                                                 \n",
      " max_pooling2d (MaxPooling2  (None, 63, 63, 32)        0         \n",
      " D)                                                              \n",
      "                                                                 \n",
      " conv2d_1 (Conv2D)           (None, 61, 61, 64)        18496     \n",
      "                                                                 \n",
      " max_pooling2d_1 (MaxPoolin  (None, 30, 30, 64)        0         \n",
      " g2D)                                                            \n",
      "                                                                 \n",
      " conv2d_2 (Conv2D)           (None, 28, 28, 128)       73856     \n",
      "                                                                 \n",
      " max_pooling2d_2 (MaxPoolin  (None, 14, 14, 128)       0         \n",
      " g2D)                                                            \n",
      "                                                                 \n",
      " conv2d_3 (Conv2D)           (None, 12, 12, 64)        73792     \n",
      "                                                                 \n",
      " max_pooling2d_3 (MaxPoolin  (None, 6, 6, 64)          0         \n",
      " g2D)                                                            \n",
      "                                                                 \n",
      " conv2d_4 (Conv2D)           (None, 4, 4, 32)          18464     \n",
      "                                                                 \n",
      " max_pooling2d_4 (MaxPoolin  (None, 2, 2, 32)          0         \n",
      " g2D)                                                            \n",
      "                                                                 \n",
      " flatten (Flatten)           (None, 128)               0         \n",
      "                                                                 \n",
      " dense (Dense)               (None, 1024)              132096    \n",
      "                                                                 \n",
      " dropout (Dropout)           (None, 1024)              0         \n",
      "                                                                 \n",
      " dense_1 (Dense)             (None, 9)                 9225      \n",
      "                                                                 \n",
      "=================================================================\n",
      "Total params: 326825 (1.25 MB)\n",
      "Trainable params: 326825 (1.25 MB)\n",
      "Non-trainable params: 0 (0.00 Byte)\n",
      "_________________________________________________________________\n"
     ]
    },
    {
     "name": "stderr",
     "output_type": "stream",
     "text": [
      "2024-04-07 10:36:55.995067: I external/local_xla/xla/stream_executor/cuda/cuda_executor.cc:901] successful NUMA node read from SysFS had negative value (-1), but there must be at least one NUMA node, so returning NUMA node zero. See more at https://github.com/torvalds/linux/blob/v6.0/Documentation/ABI/testing/sysfs-bus-pci#L344-L355\n",
      "2024-04-07 10:36:55.998161: I external/local_xla/xla/stream_executor/cuda/cuda_executor.cc:901] successful NUMA node read from SysFS had negative value (-1), but there must be at least one NUMA node, so returning NUMA node zero. See more at https://github.com/torvalds/linux/blob/v6.0/Documentation/ABI/testing/sysfs-bus-pci#L344-L355\n",
      "2024-04-07 10:36:56.001516: I external/local_xla/xla/stream_executor/cuda/cuda_executor.cc:901] successful NUMA node read from SysFS had negative value (-1), but there must be at least one NUMA node, so returning NUMA node zero. See more at https://github.com/torvalds/linux/blob/v6.0/Documentation/ABI/testing/sysfs-bus-pci#L344-L355\n",
      "2024-04-07 10:36:56.004545: I external/local_xla/xla/stream_executor/cuda/cuda_executor.cc:901] successful NUMA node read from SysFS had negative value (-1), but there must be at least one NUMA node, so returning NUMA node zero. See more at https://github.com/torvalds/linux/blob/v6.0/Documentation/ABI/testing/sysfs-bus-pci#L344-L355\n",
      "2024-04-07 10:36:56.007301: I external/local_xla/xla/stream_executor/cuda/cuda_executor.cc:901] successful NUMA node read from SysFS had negative value (-1), but there must be at least one NUMA node, so returning NUMA node zero. See more at https://github.com/torvalds/linux/blob/v6.0/Documentation/ABI/testing/sysfs-bus-pci#L344-L355\n",
      "2024-04-07 10:36:56.160557: I external/local_xla/xla/stream_executor/cuda/cuda_executor.cc:901] successful NUMA node read from SysFS had negative value (-1), but there must be at least one NUMA node, so returning NUMA node zero. See more at https://github.com/torvalds/linux/blob/v6.0/Documentation/ABI/testing/sysfs-bus-pci#L344-L355\n",
      "2024-04-07 10:36:56.161789: I external/local_xla/xla/stream_executor/cuda/cuda_executor.cc:901] successful NUMA node read from SysFS had negative value (-1), but there must be at least one NUMA node, so returning NUMA node zero. See more at https://github.com/torvalds/linux/blob/v6.0/Documentation/ABI/testing/sysfs-bus-pci#L344-L355\n",
      "2024-04-07 10:36:56.162873: I external/local_xla/xla/stream_executor/cuda/cuda_executor.cc:901] successful NUMA node read from SysFS had negative value (-1), but there must be at least one NUMA node, so returning NUMA node zero. See more at https://github.com/torvalds/linux/blob/v6.0/Documentation/ABI/testing/sysfs-bus-pci#L344-L355\n",
      "2024-04-07 10:36:56.163871: I tensorflow/core/common_runtime/gpu/gpu_device.cc:1929] Created device /job:localhost/replica:0/task:0/device:GPU:0 with 13775 MB memory:  -> device: 0, name: Tesla T4, pci bus id: 0000:00:1e.0, compute capability: 7.5\n"
     ]
    }
   ],
   "source": [
    "classifier = Sequential([\n",
    "    Conv2D(32, (3, 3), activation='relu', input_shape=(IMG_SIZE, IMG_SIZE, 3)),\n",
    "    MaxPooling2D(pool_size=(2, 2)),\n",
    "    \n",
    "    Conv2D(64, (3, 3), activation='relu'),\n",
    "    MaxPooling2D(pool_size=(2, 2)),\n",
    "    \n",
    "    Conv2D(128, (3, 3), activation='relu'),\n",
    "    MaxPooling2D(pool_size=(2, 2)),\n",
    "    \n",
    "    Conv2D(64, (3, 3), activation='relu'),\n",
    "    MaxPooling2D(pool_size=(2, 2)),\n",
    "    \n",
    "    Conv2D(32, (3, 3), activation='relu'),\n",
    "    MaxPooling2D(pool_size=(2, 2)),\n",
    "    \n",
    "    Flatten(),\n",
    "    Dense(1024, activation='relu'),\n",
    "    Dropout(0.8),\n",
    "    Dense(9, activation='softmax')\n",
    "])\n",
    "\n",
    "classifier.compile(optimizer='adam', loss='categorical_crossentropy', metrics=['accuracy'])\n",
    "classifier.summary()"
   ]
  },
  {
   "cell_type": "markdown",
   "id": "41fe1833-77fa-4c9b-a1d4-af0a6d97d1d0",
   "metadata": {},
   "source": [
    "## Train the model"
   ]
  },
  {
   "cell_type": "code",
   "execution_count": 5,
   "id": "17b7187e-0ea0-43cf-8d66-ee17883c178b",
   "metadata": {
    "execution": {
     "iopub.execute_input": "2024-04-07T10:36:56.562248Z",
     "iopub.status.busy": "2024-04-07T10:36:56.561964Z",
     "iopub.status.idle": "2024-04-07T10:45:39.138960Z",
     "shell.execute_reply": "2024-04-07T10:45:39.138043Z",
     "shell.execute_reply.started": "2024-04-07T10:36:56.562225Z"
    },
    "scrolled": true,
    "tags": []
   },
   "outputs": [
    {
     "name": "stdout",
     "output_type": "stream",
     "text": [
      "Epoch 1/100\n"
     ]
    },
    {
     "name": "stderr",
     "output_type": "stream",
     "text": [
      "2024-04-07 10:37:12.558716: I external/local_xla/xla/stream_executor/cuda/cuda_dnn.cc:454] Loaded cuDNN version 8904\n",
      "2024-04-07 10:37:12.680540: I external/local_tsl/tsl/platform/default/subprocess.cc:304] Start cannot spawn child process: No such file or directory\n",
      "2024-04-07 10:37:13.188222: I external/local_tsl/tsl/platform/default/subprocess.cc:304] Start cannot spawn child process: No such file or directory\n",
      "2024-04-07 10:37:14.020173: I external/local_xla/xla/service/service.cc:168] XLA service 0x7f3818c0aab0 initialized for platform CUDA (this does not guarantee that XLA will be used). Devices:\n",
      "2024-04-07 10:37:14.020209: I external/local_xla/xla/service/service.cc:176]   StreamExecutor device (0): Tesla T4, Compute Capability 7.5\n",
      "2024-04-07 10:37:14.026281: I tensorflow/compiler/mlir/tensorflow/utils/dump_mlir_util.cc:269] disabling MLIR crash reproducer, set env var `MLIR_CRASH_REPRODUCER_DIRECTORY` to enable.\n",
      "WARNING: All log messages before absl::InitializeLog() is called are written to STDERR\n",
      "I0000 00:00:1712486234.129791    6086 device_compiler.h:186] Compiled cluster using XLA!  This line is logged at most once for the lifetime of the process.\n"
     ]
    },
    {
     "name": "stdout",
     "output_type": "stream",
     "text": [
      "338/338 [==============================] - 11s 18ms/step - loss: 2.4115 - accuracy: 0.1189 - val_loss: 2.1960 - val_accuracy: 0.1119\n",
      "Epoch 2/100\n",
      "338/338 [==============================] - 5s 15ms/step - loss: 2.1918 - accuracy: 0.1218 - val_loss: 2.1946 - val_accuracy: 0.1175\n",
      "Epoch 3/100\n",
      "338/338 [==============================] - 5s 15ms/step - loss: 2.1741 - accuracy: 0.1406 - val_loss: 2.1427 - val_accuracy: 0.1544\n",
      "Epoch 4/100\n",
      "338/338 [==============================] - 5s 15ms/step - loss: 2.1586 - accuracy: 0.1410 - val_loss: 2.0912 - val_accuracy: 0.1678\n",
      "Epoch 5/100\n",
      "338/338 [==============================] - 5s 15ms/step - loss: 2.0736 - accuracy: 0.1861 - val_loss: 1.9529 - val_accuracy: 0.2658\n",
      "Epoch 6/100\n",
      "338/338 [==============================] - 5s 15ms/step - loss: 1.8435 - accuracy: 0.3103 - val_loss: 1.5427 - val_accuracy: 0.4261\n",
      "Epoch 7/100\n",
      "338/338 [==============================] - 5s 15ms/step - loss: 1.4459 - accuracy: 0.4477 - val_loss: 1.2007 - val_accuracy: 0.5222\n",
      "Epoch 8/100\n",
      "338/338 [==============================] - 5s 15ms/step - loss: 1.1830 - accuracy: 0.5409 - val_loss: 1.1551 - val_accuracy: 0.5864\n",
      "Epoch 9/100\n",
      "338/338 [==============================] - 5s 15ms/step - loss: 0.9739 - accuracy: 0.6324 - val_loss: 0.9351 - val_accuracy: 0.6442\n",
      "Epoch 10/100\n",
      "338/338 [==============================] - 5s 15ms/step - loss: 0.7586 - accuracy: 0.7281 - val_loss: 0.6858 - val_accuracy: 0.7536\n",
      "Epoch 11/100\n",
      "338/338 [==============================] - 5s 15ms/step - loss: 0.5517 - accuracy: 0.8095 - val_loss: 0.4494 - val_accuracy: 0.8356\n",
      "Epoch 12/100\n",
      "338/338 [==============================] - 5s 15ms/step - loss: 0.4372 - accuracy: 0.8498 - val_loss: 0.3898 - val_accuracy: 0.8742\n",
      "Epoch 13/100\n",
      "338/338 [==============================] - 5s 15ms/step - loss: 0.3288 - accuracy: 0.8931 - val_loss: 0.4523 - val_accuracy: 0.8483\n",
      "Epoch 14/100\n",
      "338/338 [==============================] - 5s 15ms/step - loss: 0.2745 - accuracy: 0.9101 - val_loss: 0.4970 - val_accuracy: 0.8417\n",
      "Epoch 15/100\n",
      "338/338 [==============================] - 5s 15ms/step - loss: 0.2258 - accuracy: 0.9279 - val_loss: 0.3049 - val_accuracy: 0.9053\n",
      "Epoch 16/100\n",
      "338/338 [==============================] - 5s 15ms/step - loss: 0.1917 - accuracy: 0.9375 - val_loss: 0.2405 - val_accuracy: 0.9208\n",
      "Epoch 17/100\n",
      "338/338 [==============================] - 5s 15ms/step - loss: 0.2194 - accuracy: 0.9311 - val_loss: 0.3113 - val_accuracy: 0.9053\n",
      "Epoch 18/100\n",
      "338/338 [==============================] - 5s 15ms/step - loss: 0.2025 - accuracy: 0.9417 - val_loss: 0.2534 - val_accuracy: 0.9228\n",
      "Epoch 19/100\n",
      "338/338 [==============================] - 5s 15ms/step - loss: 0.1686 - accuracy: 0.9477 - val_loss: 0.3058 - val_accuracy: 0.9114\n",
      "Epoch 20/100\n",
      "338/338 [==============================] - 5s 15ms/step - loss: 0.1824 - accuracy: 0.9477 - val_loss: 0.3535 - val_accuracy: 0.9044\n",
      "Epoch 21/100\n",
      "338/338 [==============================] - 5s 15ms/step - loss: 0.1454 - accuracy: 0.9554 - val_loss: 0.3651 - val_accuracy: 0.9069\n",
      "Epoch 22/100\n",
      "338/338 [==============================] - 5s 15ms/step - loss: 0.1874 - accuracy: 0.9466 - val_loss: 0.3060 - val_accuracy: 0.9186\n",
      "Epoch 23/100\n",
      "338/338 [==============================] - 5s 15ms/step - loss: 0.1107 - accuracy: 0.9675 - val_loss: 0.2326 - val_accuracy: 0.9369\n",
      "Epoch 24/100\n",
      "338/338 [==============================] - 5s 15ms/step - loss: 0.1388 - accuracy: 0.9617 - val_loss: 0.2021 - val_accuracy: 0.9433\n",
      "Epoch 25/100\n",
      "338/338 [==============================] - 5s 15ms/step - loss: 0.1321 - accuracy: 0.9620 - val_loss: 0.2616 - val_accuracy: 0.9286\n",
      "Epoch 26/100\n",
      "338/338 [==============================] - 5s 15ms/step - loss: 0.1373 - accuracy: 0.9600 - val_loss: 0.3698 - val_accuracy: 0.9072\n",
      "Epoch 27/100\n",
      "338/338 [==============================] - 5s 15ms/step - loss: 0.1799 - accuracy: 0.9500 - val_loss: 0.2459 - val_accuracy: 0.9419\n",
      "Epoch 28/100\n",
      "338/338 [==============================] - 5s 15ms/step - loss: 0.1153 - accuracy: 0.9687 - val_loss: 0.2725 - val_accuracy: 0.9317\n",
      "Epoch 29/100\n",
      "338/338 [==============================] - 5s 15ms/step - loss: 0.2063 - accuracy: 0.9459 - val_loss: 0.4112 - val_accuracy: 0.9011\n",
      "Epoch 30/100\n",
      "338/338 [==============================] - 5s 15ms/step - loss: 0.1440 - accuracy: 0.9605 - val_loss: 0.2560 - val_accuracy: 0.9308\n",
      "Epoch 31/100\n",
      "338/338 [==============================] - 5s 15ms/step - loss: 0.1055 - accuracy: 0.9706 - val_loss: 0.2755 - val_accuracy: 0.9333\n",
      "Epoch 32/100\n",
      "338/338 [==============================] - 5s 15ms/step - loss: 0.1457 - accuracy: 0.9603 - val_loss: 0.4499 - val_accuracy: 0.8994\n",
      "Epoch 33/100\n",
      "338/338 [==============================] - 5s 15ms/step - loss: 0.1612 - accuracy: 0.9621 - val_loss: 0.3228 - val_accuracy: 0.9247\n",
      "Epoch 34/100\n",
      "338/338 [==============================] - 5s 15ms/step - loss: 0.1145 - accuracy: 0.9721 - val_loss: 0.2791 - val_accuracy: 0.9283\n",
      "Epoch 35/100\n",
      "338/338 [==============================] - 5s 15ms/step - loss: 0.0792 - accuracy: 0.9794 - val_loss: 0.4482 - val_accuracy: 0.9203\n",
      "Epoch 36/100\n",
      "338/338 [==============================] - 5s 15ms/step - loss: 0.1794 - accuracy: 0.9555 - val_loss: 0.5030 - val_accuracy: 0.8792\n",
      "Epoch 37/100\n",
      "338/338 [==============================] - 5s 15ms/step - loss: 0.1263 - accuracy: 0.9641 - val_loss: 0.4141 - val_accuracy: 0.9139\n",
      "Epoch 38/100\n",
      "338/338 [==============================] - 5s 15ms/step - loss: 0.1695 - accuracy: 0.9584 - val_loss: 0.2607 - val_accuracy: 0.9333\n",
      "Epoch 39/100\n",
      "338/338 [==============================] - 5s 15ms/step - loss: 0.0930 - accuracy: 0.9752 - val_loss: 0.2606 - val_accuracy: 0.9456\n",
      "Epoch 40/100\n",
      "338/338 [==============================] - 5s 15ms/step - loss: 0.1117 - accuracy: 0.9726 - val_loss: 0.3624 - val_accuracy: 0.9200\n",
      "Epoch 41/100\n",
      "338/338 [==============================] - 5s 15ms/step - loss: 0.1998 - accuracy: 0.9538 - val_loss: 0.2648 - val_accuracy: 0.9292\n",
      "Epoch 42/100\n",
      "338/338 [==============================] - 5s 15ms/step - loss: 0.1270 - accuracy: 0.9677 - val_loss: 0.4932 - val_accuracy: 0.8956\n",
      "Epoch 43/100\n",
      "338/338 [==============================] - 5s 15ms/step - loss: 0.1314 - accuracy: 0.9656 - val_loss: 0.5279 - val_accuracy: 0.8900\n",
      "Epoch 44/100\n",
      "338/338 [==============================] - 5s 15ms/step - loss: 0.1991 - accuracy: 0.9532 - val_loss: 0.3366 - val_accuracy: 0.9169\n",
      "Epoch 45/100\n",
      "338/338 [==============================] - 5s 15ms/step - loss: 0.1114 - accuracy: 0.9705 - val_loss: 0.3277 - val_accuracy: 0.9358\n",
      "Epoch 46/100\n",
      "338/338 [==============================] - 5s 15ms/step - loss: 0.1264 - accuracy: 0.9705 - val_loss: 0.6837 - val_accuracy: 0.8631\n",
      "Epoch 47/100\n",
      "338/338 [==============================] - 5s 15ms/step - loss: 0.0970 - accuracy: 0.9729 - val_loss: 0.3657 - val_accuracy: 0.9367\n",
      "Epoch 48/100\n",
      "338/338 [==============================] - 5s 15ms/step - loss: 0.1484 - accuracy: 0.9683 - val_loss: 0.2591 - val_accuracy: 0.9397\n",
      "Epoch 49/100\n",
      "338/338 [==============================] - 5s 15ms/step - loss: 0.0798 - accuracy: 0.9802 - val_loss: 0.6449 - val_accuracy: 0.9017\n",
      "Epoch 50/100\n",
      "338/338 [==============================] - 5s 15ms/step - loss: 0.2010 - accuracy: 0.9593 - val_loss: 0.3629 - val_accuracy: 0.9267\n",
      "Epoch 51/100\n",
      "338/338 [==============================] - 5s 15ms/step - loss: 0.1184 - accuracy: 0.9711 - val_loss: 0.3622 - val_accuracy: 0.9244\n",
      "Epoch 52/100\n",
      "338/338 [==============================] - 5s 15ms/step - loss: 0.1111 - accuracy: 0.9717 - val_loss: 0.2919 - val_accuracy: 0.9458\n",
      "Epoch 53/100\n",
      "338/338 [==============================] - 5s 15ms/step - loss: 0.0991 - accuracy: 0.9770 - val_loss: 0.2984 - val_accuracy: 0.9381\n",
      "Epoch 54/100\n",
      "338/338 [==============================] - 5s 15ms/step - loss: 0.1591 - accuracy: 0.9641 - val_loss: 0.4486 - val_accuracy: 0.9183\n",
      "Epoch 55/100\n",
      "338/338 [==============================] - 5s 15ms/step - loss: 0.1608 - accuracy: 0.9645 - val_loss: 0.3164 - val_accuracy: 0.9300\n",
      "Epoch 56/100\n",
      "338/338 [==============================] - 5s 15ms/step - loss: 0.2088 - accuracy: 0.9569 - val_loss: 0.3468 - val_accuracy: 0.9214\n",
      "Epoch 57/100\n",
      "338/338 [==============================] - 5s 15ms/step - loss: 0.1701 - accuracy: 0.9613 - val_loss: 0.3582 - val_accuracy: 0.9350\n",
      "Epoch 58/100\n",
      "338/338 [==============================] - 5s 15ms/step - loss: 0.0957 - accuracy: 0.9730 - val_loss: 0.3345 - val_accuracy: 0.9319\n",
      "Epoch 59/100\n",
      "338/338 [==============================] - 5s 15ms/step - loss: 0.0796 - accuracy: 0.9814 - val_loss: 0.5564 - val_accuracy: 0.9089\n",
      "Epoch 60/100\n",
      "338/338 [==============================] - 5s 15ms/step - loss: 0.2475 - accuracy: 0.9461 - val_loss: 0.4015 - val_accuracy: 0.9275\n",
      "Epoch 61/100\n",
      "338/338 [==============================] - 5s 15ms/step - loss: 0.0823 - accuracy: 0.9805 - val_loss: 0.2706 - val_accuracy: 0.9447\n",
      "Epoch 62/100\n",
      "338/338 [==============================] - 5s 15ms/step - loss: 0.1092 - accuracy: 0.9756 - val_loss: 0.6467 - val_accuracy: 0.9114\n",
      "Epoch 63/100\n",
      "338/338 [==============================] - 5s 15ms/step - loss: 0.1633 - accuracy: 0.9667 - val_loss: 0.5879 - val_accuracy: 0.8825\n",
      "Epoch 64/100\n",
      "338/338 [==============================] - 5s 15ms/step - loss: 0.1304 - accuracy: 0.9702 - val_loss: 0.3500 - val_accuracy: 0.9356\n",
      "Epoch 65/100\n",
      "338/338 [==============================] - 5s 15ms/step - loss: 0.0829 - accuracy: 0.9819 - val_loss: 0.3036 - val_accuracy: 0.9464\n",
      "Epoch 66/100\n",
      "338/338 [==============================] - 5s 15ms/step - loss: 0.2229 - accuracy: 0.9537 - val_loss: 0.3172 - val_accuracy: 0.9306\n",
      "Epoch 67/100\n",
      "338/338 [==============================] - 5s 15ms/step - loss: 0.1385 - accuracy: 0.9666 - val_loss: 0.3430 - val_accuracy: 0.9325\n",
      "Epoch 68/100\n",
      "338/338 [==============================] - 5s 15ms/step - loss: 0.1195 - accuracy: 0.9735 - val_loss: 0.2742 - val_accuracy: 0.9381\n",
      "Epoch 69/100\n",
      "338/338 [==============================] - 5s 15ms/step - loss: 0.1543 - accuracy: 0.9650 - val_loss: 0.3735 - val_accuracy: 0.9261\n",
      "Epoch 70/100\n",
      "338/338 [==============================] - 5s 15ms/step - loss: 0.1470 - accuracy: 0.9681 - val_loss: 0.4316 - val_accuracy: 0.9194\n",
      "Epoch 71/100\n",
      "338/338 [==============================] - 5s 15ms/step - loss: 0.1325 - accuracy: 0.9734 - val_loss: 0.4162 - val_accuracy: 0.9228\n",
      "Epoch 72/100\n",
      "338/338 [==============================] - 5s 15ms/step - loss: 0.1289 - accuracy: 0.9722 - val_loss: 0.2938 - val_accuracy: 0.9431\n",
      "Epoch 73/100\n",
      "338/338 [==============================] - 5s 15ms/step - loss: 0.1332 - accuracy: 0.9686 - val_loss: 0.2816 - val_accuracy: 0.9425\n",
      "Epoch 74/100\n",
      "338/338 [==============================] - 5s 15ms/step - loss: 0.1418 - accuracy: 0.9687 - val_loss: 0.4683 - val_accuracy: 0.9183\n",
      "Epoch 75/100\n",
      "338/338 [==============================] - 5s 15ms/step - loss: 0.1206 - accuracy: 0.9740 - val_loss: 0.2527 - val_accuracy: 0.9525\n",
      "Epoch 76/100\n",
      "338/338 [==============================] - 5s 15ms/step - loss: 0.1239 - accuracy: 0.9750 - val_loss: 0.3580 - val_accuracy: 0.9292\n",
      "Epoch 77/100\n",
      "338/338 [==============================] - 5s 15ms/step - loss: 0.1090 - accuracy: 0.9748 - val_loss: 0.3931 - val_accuracy: 0.9433\n",
      "Epoch 78/100\n",
      "338/338 [==============================] - 5s 15ms/step - loss: 0.2379 - accuracy: 0.9530 - val_loss: 0.5914 - val_accuracy: 0.9047\n",
      "Epoch 79/100\n",
      "338/338 [==============================] - 5s 15ms/step - loss: 0.1000 - accuracy: 0.9778 - val_loss: 0.2716 - val_accuracy: 0.9539\n",
      "Epoch 80/100\n",
      "338/338 [==============================] - 5s 15ms/step - loss: 0.2275 - accuracy: 0.9569 - val_loss: 0.3517 - val_accuracy: 0.9306\n",
      "Epoch 81/100\n",
      "338/338 [==============================] - 5s 15ms/step - loss: 0.1214 - accuracy: 0.9730 - val_loss: 0.3981 - val_accuracy: 0.9339\n",
      "Epoch 82/100\n",
      "338/338 [==============================] - 5s 15ms/step - loss: 0.1549 - accuracy: 0.9719 - val_loss: 0.3641 - val_accuracy: 0.9333\n",
      "Epoch 83/100\n",
      "338/338 [==============================] - 5s 15ms/step - loss: 0.1546 - accuracy: 0.9689 - val_loss: 0.3851 - val_accuracy: 0.9336\n",
      "Epoch 84/100\n",
      "338/338 [==============================] - 5s 15ms/step - loss: 0.0713 - accuracy: 0.9829 - val_loss: 0.3021 - val_accuracy: 0.9511\n",
      "Epoch 85/100\n",
      "338/338 [==============================] - 5s 15ms/step - loss: 0.2404 - accuracy: 0.9571 - val_loss: 0.4502 - val_accuracy: 0.9300\n",
      "Epoch 86/100\n",
      "338/338 [==============================] - 5s 15ms/step - loss: 0.1137 - accuracy: 0.9768 - val_loss: 0.4395 - val_accuracy: 0.9333\n",
      "Epoch 87/100\n",
      "338/338 [==============================] - 5s 15ms/step - loss: 0.1822 - accuracy: 0.9636 - val_loss: 0.4446 - val_accuracy: 0.9378\n",
      "Epoch 88/100\n",
      "338/338 [==============================] - 5s 15ms/step - loss: 0.0773 - accuracy: 0.9824 - val_loss: 0.3425 - val_accuracy: 0.9389\n",
      "Epoch 89/100\n",
      "338/338 [==============================] - 5s 15ms/step - loss: 0.1088 - accuracy: 0.9797 - val_loss: 0.2966 - val_accuracy: 0.9472\n",
      "Epoch 90/100\n",
      "338/338 [==============================] - 5s 15ms/step - loss: 0.2046 - accuracy: 0.9619 - val_loss: 0.3560 - val_accuracy: 0.9425\n",
      "Epoch 91/100\n",
      "338/338 [==============================] - 5s 15ms/step - loss: 0.1166 - accuracy: 0.9754 - val_loss: 0.3485 - val_accuracy: 0.9442\n",
      "Epoch 92/100\n",
      "338/338 [==============================] - 5s 15ms/step - loss: 0.0984 - accuracy: 0.9804 - val_loss: 1.1315 - val_accuracy: 0.8925\n",
      "Epoch 93/100\n",
      "338/338 [==============================] - 5s 15ms/step - loss: 0.1661 - accuracy: 0.9666 - val_loss: 0.3596 - val_accuracy: 0.9394\n",
      "Epoch 94/100\n",
      "338/338 [==============================] - 5s 15ms/step - loss: 0.2062 - accuracy: 0.9642 - val_loss: 0.5584 - val_accuracy: 0.9175\n",
      "Epoch 95/100\n",
      "338/338 [==============================] - 5s 15ms/step - loss: 0.1782 - accuracy: 0.9610 - val_loss: 0.3723 - val_accuracy: 0.9386\n",
      "Epoch 96/100\n",
      "338/338 [==============================] - 5s 15ms/step - loss: 0.2064 - accuracy: 0.9608 - val_loss: 0.3280 - val_accuracy: 0.9383\n",
      "Epoch 97/100\n",
      "338/338 [==============================] - 5s 15ms/step - loss: 0.1594 - accuracy: 0.9694 - val_loss: 0.4587 - val_accuracy: 0.9242\n",
      "Epoch 98/100\n",
      "338/338 [==============================] - 5s 15ms/step - loss: 0.1216 - accuracy: 0.9747 - val_loss: 0.6130 - val_accuracy: 0.9303\n",
      "Epoch 99/100\n",
      "338/338 [==============================] - 5s 15ms/step - loss: 0.1752 - accuracy: 0.9681 - val_loss: 0.3029 - val_accuracy: 0.9525\n",
      "Epoch 100/100\n",
      "338/338 [==============================] - 5s 15ms/step - loss: 0.1056 - accuracy: 0.9820 - val_loss: 0.3058 - val_accuracy: 0.9511\n"
     ]
    },
    {
     "name": "stderr",
     "output_type": "stream",
     "text": [
      "/opt/saturncloud/envs/saturn/lib/python3.10/site-packages/keras/src/engine/training.py:3103: UserWarning: You are saving your model as an HDF5 file via `model.save()`. This file format is considered legacy. We recommend using instead the native Keras format, e.g. `model.save('my_model.keras')`.\n",
      "  saving_api.save_model(\n"
     ]
    }
   ],
   "source": [
    "data = load_data()\n",
    "\n",
    "x = np.array([i[0] for i in data]).reshape(-1, IMG_SIZE, IMG_SIZE, 3)\n",
    "y = np.array([i[1] for i in data])\n",
    "\n",
    "x_train, x_val, y_train, y_val = train_test_split(x, y, test_size=0.2, random_state=0, stratify=y)\n",
    "x_train, x_test, y_train, y_test = train_test_split(x_train, y_train, test_size=0.25, random_state=0, stratify=y_train)\n",
    "\n",
    "history = classifier.fit(x_train, y_train, epochs=100, validation_data=(x_val, y_val))\n",
    "classifier.save(MODEL_NAME)"
   ]
  },
  {
   "cell_type": "markdown",
   "id": "00e01aea-e712-4d1b-bdd0-7b2643c3277c",
   "metadata": {},
   "source": [
    "## Evaluate the model"
   ]
  },
  {
   "cell_type": "code",
   "execution_count": 6,
   "id": "d6c8a4f0-d0d2-488f-82c7-1bc489d54adb",
   "metadata": {
    "execution": {
     "iopub.execute_input": "2024-04-07T10:45:39.140898Z",
     "iopub.status.busy": "2024-04-07T10:45:39.140601Z",
     "iopub.status.idle": "2024-04-07T10:45:40.017219Z",
     "shell.execute_reply": "2024-04-07T10:45:40.016455Z",
     "shell.execute_reply.started": "2024-04-07T10:45:39.140870Z"
    },
    "tags": []
   },
   "outputs": [
    {
     "name": "stdout",
     "output_type": "stream",
     "text": [
      "113/113 [==============================] - 1s 4ms/step\n",
      "Accuracy: 0.9511111111111111\n",
      "Precision: 0.9516381368336453\n",
      "Recall: 0.9511111111111111\n",
      "F1-score: 0.9511987517448964\n"
     ]
    }
   ],
   "source": [
    "from sklearn.metrics import f1_score, precision_score, recall_score, accuracy_score\n",
    "\n",
    "y_pred = classifier.predict(x_test)\n",
    "y_pred = np.argmax(y_pred, axis=1)\n",
    "y_test = np.argmax(y_test, axis=1)\n",
    "\n",
    "print(\"Accuracy:\", accuracy_score(y_test, y_pred))\n",
    "print(\"Precision:\", precision_score(y_test, y_pred, average=\"macro\"))\n",
    "print(\"Recall:\", recall_score(y_test, y_pred, average=\"macro\"))\n",
    "print(\"F1-score:\", f1_score(y_test, y_pred, average=\"macro\"))"
   ]
  },
  {
   "cell_type": "code",
   "execution_count": null,
   "id": "89e539d0-99ee-4ab3-991c-0dae4ee856e4",
   "metadata": {},
   "outputs": [],
   "source": []
  }
 ],
 "metadata": {
  "kernelspec": {
   "display_name": "saturn (Python 3)",
   "language": "python",
   "name": "python3"
  },
  "language_info": {
   "codemirror_mode": {
    "name": "ipython",
    "version": 3
   },
   "file_extension": ".py",
   "mimetype": "text/x-python",
   "name": "python",
   "nbconvert_exporter": "python",
   "pygments_lexer": "ipython3",
   "version": "3.10.13"
  }
 },
 "nbformat": 4,
 "nbformat_minor": 5
}
