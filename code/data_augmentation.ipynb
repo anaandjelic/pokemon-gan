{
 "cells": [
  {
   "cell_type": "code",
   "execution_count": 1,
   "id": "d68fd9e4-5833-49de-a133-9457d9773b99",
   "metadata": {
    "execution": {
     "iopub.execute_input": "2024-02-26T12:27:31.451412Z",
     "iopub.status.busy": "2024-02-26T12:27:31.451024Z",
     "iopub.status.idle": "2024-02-26T12:27:34.696181Z",
     "shell.execute_reply": "2024-02-26T12:27:34.695505Z",
     "shell.execute_reply.started": "2024-02-26T12:27:31.451385Z"
    },
    "tags": []
   },
   "outputs": [
    {
     "name": "stderr",
     "output_type": "stream",
     "text": [
      "2024-02-26 12:27:31.781114: I external/local_tsl/tsl/cuda/cudart_stub.cc:31] Could not find cuda drivers on your machine, GPU will not be used.\n",
      "2024-02-26 12:27:31.824428: E external/local_xla/xla/stream_executor/cuda/cuda_dnn.cc:9261] Unable to register cuDNN factory: Attempting to register factory for plugin cuDNN when one has already been registered\n",
      "2024-02-26 12:27:31.824463: E external/local_xla/xla/stream_executor/cuda/cuda_fft.cc:607] Unable to register cuFFT factory: Attempting to register factory for plugin cuFFT when one has already been registered\n",
      "2024-02-26 12:27:31.825600: E external/local_xla/xla/stream_executor/cuda/cuda_blas.cc:1515] Unable to register cuBLAS factory: Attempting to register factory for plugin cuBLAS when one has already been registered\n",
      "2024-02-26 12:27:31.832303: I external/local_tsl/tsl/cuda/cudart_stub.cc:31] Could not find cuda drivers on your machine, GPU will not be used.\n",
      "2024-02-26 12:27:31.833094: I tensorflow/core/platform/cpu_feature_guard.cc:182] This TensorFlow binary is optimized to use available CPU instructions in performance-critical operations.\n",
      "To enable the following instructions: AVX2 AVX512F FMA, in other operations, rebuild TensorFlow with the appropriate compiler flags.\n",
      "2024-02-26 12:27:32.729478: W tensorflow/compiler/tf2tensorrt/utils/py_utils.cc:38] TF-TRT Warning: Could not find TensorRT\n"
     ]
    }
   ],
   "source": [
    "from tensorflow.keras.preprocessing.image import ImageDataGenerator\n",
    "from tensorflow.keras.preprocessing import image\n",
    "\n",
    "import warnings\n",
    "import os\n",
    "import shutil\n",
    "warnings.filterwarnings('ignore')"
   ]
  },
  {
   "cell_type": "code",
   "execution_count": 4,
   "id": "2ed85422-0c20-45ab-a6d5-fe26a1e4c6ab",
   "metadata": {
    "execution": {
     "iopub.execute_input": "2024-02-26T10:14:39.458676Z",
     "iopub.status.busy": "2024-02-26T10:14:39.458280Z",
     "iopub.status.idle": "2024-02-26T10:14:39.462618Z",
     "shell.execute_reply": "2024-02-26T10:14:39.462070Z",
     "shell.execute_reply.started": "2024-02-26T10:14:39.458648Z"
    },
    "tags": []
   },
   "outputs": [],
   "source": [
    "datagen = ImageDataGenerator(\n",
    "        rotation_range=75,            # Degree range for random rotations.\n",
    "        brightness_range=(0.25, 1.75),  # Range for picking a brightness shift value from. (\n",
    "        shear_range=45,              # \"stretches the image\" # https://www.quora.com/What-is-shear-in-data-augmentation, angle\n",
    "        zoom_range=[0.7, 1.3],        # Range for random zoom.\n",
    "        horizontal_flip=True,\n",
    "        fill_mode='constant',\n",
    "        cval=255                     # If there are pixels that are missing, fill them with white colour\n",
    ")\n",
    "# channel_shift_range - we don't want pictures to be brighter nor darker\n",
    "# vertical_flip - we don't want to have our pokemon upside-down\n",
    "# https://towardsdatascience.com/exploring-image-data-augmentation-with-keras-and-tensorflow-a8162d89b844"
   ]
  },
  {
   "cell_type": "code",
   "execution_count": 2,
   "id": "ae8a86b4-2bd7-48a8-b817-6be50fb5b068",
   "metadata": {
    "execution": {
     "iopub.execute_input": "2024-02-26T12:27:40.660714Z",
     "iopub.status.busy": "2024-02-26T12:27:40.660129Z",
     "iopub.status.idle": "2024-02-26T12:27:40.664397Z",
     "shell.execute_reply": "2024-02-26T12:27:40.663609Z",
     "shell.execute_reply.started": "2024-02-26T12:27:40.660683Z"
    },
    "tags": []
   },
   "outputs": [],
   "source": [
    "DATADIR = \"/data\"\n",
    "AUGDATADIR = \"/augdata\"\n",
    "CURRENTDIR = os.getcwd()"
   ]
  },
  {
   "cell_type": "code",
   "execution_count": 1,
   "id": "82a312e9-850e-4f5e-84f6-ab317c9f3f25",
   "metadata": {
    "execution": {
     "iopub.execute_input": "2024-02-26T13:48:20.731995Z",
     "iopub.status.busy": "2024-02-26T13:48:20.731611Z",
     "iopub.status.idle": "2024-02-26T13:48:20.735586Z",
     "shell.execute_reply": "2024-02-26T13:48:20.734872Z",
     "shell.execute_reply.started": "2024-02-26T13:48:20.731967Z"
    },
    "tags": []
   },
   "outputs": [],
   "source": [
    "import cv2\n",
    "\n",
    "for img in os.listdir(CURRENTDIR + DATADIR):\n",
    "    if img == \".ipynb_checkpoints\":\n",
    "        continue\n",
    "    read_img = cv2.imread(os.path.join(CURRENTDIR + DATADIR, img))\n",
    "    \n",
    "    black_pixels = (read_img == [0, 0, 0]).all(axis=2)\n",
    "    read_img[black_pixels] = [255, 255, 255]\n",
    "    \n",
    "    converted_img = cv2.cvtColor(read_img, cv2.COLOR_BGR2RGB)\n",
    "    final_img = converted_img.reshape((1, ) + converted_img.shape)\n",
    "    i = 0\n",
    "    \n",
    "    for batch in datagen.flow(final_img, batch_size=1, save_to_dir=CURRENTDIR+AUGDATADIR, save_prefix=img.split('.')[0], save_format='png'):\n",
    "        \n",
    "        i += 1\n",
    "        if i > 9:\n",
    "            break"
   ]
  },
  {
   "cell_type": "code",
   "execution_count": 16,
   "id": "f3e3ee5a-162f-4cf3-9f5b-8dae877585d0",
   "metadata": {
    "execution": {
     "iopub.execute_input": "2024-02-26T09:38:40.740897Z",
     "iopub.status.busy": "2024-02-26T09:38:40.740478Z",
     "iopub.status.idle": "2024-02-26T09:38:40.816698Z",
     "shell.execute_reply": "2024-02-26T09:38:40.816098Z",
     "shell.execute_reply.started": "2024-02-26T09:38:40.740869Z"
    },
    "tags": []
   },
   "outputs": [],
   "source": [
    "for filename in os.listdir(CURRENTDIR+AUGDATADIR):\n",
    "    file_path = os.path.join(CURRENTDIR+AUGDATADIR, filename)\n",
    "    if file_path == '/home/jovyan/workspace/augdata/.ipynb_checkpoints':\n",
    "        continue\n",
    "    os.unlink(file_path)"
   ]
  },
  {
   "cell_type": "code",
   "execution_count": 18,
   "id": "de8e5f51-88d2-41df-8a07-5617f8bb5c32",
   "metadata": {
    "execution": {
     "iopub.execute_input": "2024-02-26T09:42:22.903758Z",
     "iopub.status.busy": "2024-02-26T09:42:22.903362Z",
     "iopub.status.idle": "2024-02-26T09:42:22.957150Z",
     "shell.execute_reply": "2024-02-26T09:42:22.956366Z",
     "shell.execute_reply.started": "2024-02-26T09:42:22.903730Z"
    },
    "tags": []
   },
   "outputs": [
    {
     "name": "stdout",
     "output_type": "stream",
     "text": [
      "11196\n"
     ]
    }
   ],
   "source": [
    "files = os.listdir(CURRENTDIR+AUGDATADIR)\n",
    "\n",
    "num_files = len([f for f in files if os.path.isfile(os.path.join(CURRENTDIR+AUGDATADIR, f))])\n",
    "\n",
    "print(num_files)"
   ]
  },
  {
   "cell_type": "code",
   "execution_count": 8,
   "id": "f8b40be5-12be-41b3-87de-52706495a12d",
   "metadata": {
    "execution": {
     "iopub.execute_input": "2024-02-26T12:49:28.552432Z",
     "iopub.status.busy": "2024-02-26T12:49:28.551888Z",
     "iopub.status.idle": "2024-02-26T12:49:28.556910Z",
     "shell.execute_reply": "2024-02-26T12:49:28.556188Z",
     "shell.execute_reply.started": "2024-02-26T12:49:28.552386Z"
    },
    "tags": []
   },
   "outputs": [],
   "source": [
    "#!zip -r augmented_pokemon.zip /home/jovyan/workspace/augdata\n",
    "#!zip -r augmented_pokemon_gen_1.zip /home/jovyan/workspace/generation_1\n",
    "#!zip -r augmented_pokemon_gen_2.zip /home/jovyan/workspace/generation_2\n",
    "#!zip -r augmented_pokemon_gen_3.zip /home/jovyan/workspace/generation_3\n",
    "#!zip -r augmented_pokemon_gen_4.zip /home/jovyan/workspace/generation_4\n",
    "#!zip -r augmented_pokemon_gen_5.zip /home/jovyan/workspace/generation_5\n",
    "#!zip -r augmented_pokemon_gen_6.zip /home/jovyan/workspace/generation_6\n",
    "#!zip -r augmented_pokemon_gen_7.zip /home/jovyan/workspace/generation_7\n",
    "#!zip -r augmented_pokemon_gen_8.zip /home/jovyan/workspace/generation_8\n",
    "#!zip -r augmented_pokemon_gen_9.zip /home/jovyan/workspace/generation_9"
   ]
  },
  {
   "cell_type": "code",
   "execution_count": 3,
   "id": "209848cc-f94d-4373-ae40-bfb2891201c3",
   "metadata": {
    "execution": {
     "iopub.execute_input": "2024-02-26T12:27:57.133004Z",
     "iopub.status.busy": "2024-02-26T12:27:57.132592Z",
     "iopub.status.idle": "2024-02-26T12:27:57.137988Z",
     "shell.execute_reply": "2024-02-26T12:27:57.137200Z",
     "shell.execute_reply.started": "2024-02-26T12:27:57.132976Z"
    },
    "tags": []
   },
   "outputs": [],
   "source": [
    "def get_generation(pokedex_number):\n",
    "    if 1 <= pokedex_number <= 151:\n",
    "        return 1\n",
    "    elif 152 <= pokedex_number <= 251:\n",
    "        return 2\n",
    "    elif 252 <= pokedex_number <= 386:\n",
    "        return 3\n",
    "    elif 387 <= pokedex_number <= 493:\n",
    "        return 4\n",
    "    elif 494 <= pokedex_number <= 649:\n",
    "        return 5\n",
    "    elif 650 <= pokedex_number <= 721:\n",
    "        return 6\n",
    "    elif 722 <= pokedex_number <= 809:\n",
    "        return 7\n",
    "    elif 810 <= pokedex_number <= 905:\n",
    "        return 8\n",
    "    else:\n",
    "        return 9"
   ]
  },
  {
   "cell_type": "code",
   "execution_count": 4,
   "id": "8199cdf2-9572-47e2-8a16-5cd71182c18a",
   "metadata": {
    "execution": {
     "iopub.execute_input": "2024-02-26T12:27:57.644581Z",
     "iopub.status.busy": "2024-02-26T12:27:57.644185Z",
     "iopub.status.idle": "2024-02-26T12:27:57.648715Z",
     "shell.execute_reply": "2024-02-26T12:27:57.647925Z",
     "shell.execute_reply.started": "2024-02-26T12:27:57.644555Z"
    },
    "tags": []
   },
   "outputs": [],
   "source": [
    "def make_dirs():\n",
    "    for i in range(9):\n",
    "        os.makedirs(os.path.join(CURRENTDIR, f'generation_{str(i+1)}'), exist_ok=True)"
   ]
  },
  {
   "cell_type": "code",
   "execution_count": 5,
   "id": "94448217-048c-47a0-9092-d39bfc69a275",
   "metadata": {
    "execution": {
     "iopub.execute_input": "2024-02-26T12:27:59.891797Z",
     "iopub.status.busy": "2024-02-26T12:27:59.891100Z",
     "iopub.status.idle": "2024-02-26T12:27:59.896905Z",
     "shell.execute_reply": "2024-02-26T12:27:59.896104Z",
     "shell.execute_reply.started": "2024-02-26T12:27:59.891767Z"
    },
    "tags": []
   },
   "outputs": [],
   "source": [
    "def arrange_pokemon_into_generations():\n",
    "    for filename in os.listdir(CURRENTDIR + AUGDATADIR):\n",
    "        if '.ipynb' in filename:\n",
    "            continue\n",
    "        split_filename = []\n",
    "        if '-' in filename[:5]:\n",
    "            split_filename = filename.split('-')\n",
    "        else:\n",
    "            split_filename = filename.split('_')\n",
    "        pokedex_number = split_filename[0]\n",
    "        pokedex_number = pokedex_number[:-1] if 'f' in pokedex_number else pokedex_number\n",
    "        generation = get_generation(int(pokedex_number))\n",
    "        source = os.path.join(CURRENTDIR + AUGDATADIR, filename)\n",
    "        destination = os.path.join(CURRENTDIR, f\"generation_{str(generation)}\", filename)\n",
    "        shutil.move(source, destination)"
   ]
  },
  {
   "cell_type": "code",
   "execution_count": 6,
   "id": "b2d78b08-be5d-4e49-bd79-12354199de5c",
   "metadata": {
    "execution": {
     "iopub.execute_input": "2024-02-26T12:28:01.935475Z",
     "iopub.status.busy": "2024-02-26T12:28:01.935043Z",
     "iopub.status.idle": "2024-02-26T12:28:02.169663Z",
     "shell.execute_reply": "2024-02-26T12:28:02.168833Z",
     "shell.execute_reply.started": "2024-02-26T12:28:01.935443Z"
    },
    "tags": []
   },
   "outputs": [],
   "source": [
    "make_dirs()\n",
    "arrange_pokemon_into_generations()"
   ]
  },
  {
   "cell_type": "code",
   "execution_count": null,
   "id": "8d43fe95-c5da-495a-8a40-ce1d35d8f0bd",
   "metadata": {},
   "outputs": [],
   "source": []
  }
 ],
 "metadata": {
  "kernelspec": {
   "display_name": "saturn (Python 3)",
   "language": "python",
   "name": "python3"
  },
  "language_info": {
   "codemirror_mode": {
    "name": "ipython",
    "version": 3
   },
   "file_extension": ".py",
   "mimetype": "text/x-python",
   "name": "python",
   "nbconvert_exporter": "python",
   "pygments_lexer": "ipython3",
   "version": "3.9.15"
  }
 },
 "nbformat": 4,
 "nbformat_minor": 5
}
