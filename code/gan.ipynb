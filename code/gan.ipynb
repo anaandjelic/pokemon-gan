{
 "cells": [
  {
   "cell_type": "markdown",
   "id": "6a0be5fa-213f-42d9-a530-345b9fbc0e8c",
   "metadata": {},
   "source": [
    "# Generative Adversarial Network\n",
    "Architecture for this model was inspired by Gonçalo Chambel's Medium article on using a DCGAN to generate Pokémons \n",
    "## Imports and constants"
   ]
  },
  {
   "cell_type": "code",
   "execution_count": 1,
   "id": "501a2de8-c4c5-4701-8e6a-453a3a404e53",
   "metadata": {
    "execution": {
     "iopub.execute_input": "2024-04-07T08:09:54.857248Z",
     "iopub.status.busy": "2024-04-07T08:09:54.856587Z",
     "iopub.status.idle": "2024-04-07T08:09:57.561678Z",
     "shell.execute_reply": "2024-04-07T08:09:57.560932Z",
     "shell.execute_reply.started": "2024-04-07T08:09:54.857202Z"
    },
    "scrolled": true,
    "tags": []
   },
   "outputs": [
    {
     "name": "stderr",
     "output_type": "stream",
     "text": [
      "2024-04-07 08:09:55.249829: I tensorflow/core/util/port.cc:113] oneDNN custom operations are on. You may see slightly different numerical results due to floating-point round-off errors from different computation orders. To turn them off, set the environment variable `TF_ENABLE_ONEDNN_OPTS=0`.\n",
      "2024-04-07 08:09:55.299106: E external/local_xla/xla/stream_executor/cuda/cuda_dnn.cc:9261] Unable to register cuDNN factory: Attempting to register factory for plugin cuDNN when one has already been registered\n",
      "2024-04-07 08:09:55.299140: E external/local_xla/xla/stream_executor/cuda/cuda_fft.cc:607] Unable to register cuFFT factory: Attempting to register factory for plugin cuFFT when one has already been registered\n",
      "2024-04-07 08:09:55.300388: E external/local_xla/xla/stream_executor/cuda/cuda_blas.cc:1515] Unable to register cuBLAS factory: Attempting to register factory for plugin cuBLAS when one has already been registered\n",
      "2024-04-07 08:09:55.309442: I tensorflow/core/platform/cpu_feature_guard.cc:182] This TensorFlow binary is optimized to use available CPU instructions in performance-critical operations.\n",
      "To enable the following instructions: AVX2 AVX512F AVX512_VNNI FMA, in other operations, rebuild TensorFlow with the appropriate compiler flags.\n",
      "2024-04-07 08:09:56.235622: W tensorflow/compiler/tf2tensorrt/utils/py_utils.cc:38] TF-TRT Warning: Could not find TensorRT\n"
     ]
    }
   ],
   "source": [
    "import os\n",
    "import re\n",
    "import tensorflow as tf\n",
    "import matplotlib.pyplot as plt\n",
    "from tensorflow.keras import preprocessing\n",
    "from keras.models import Sequential\n",
    "from keras.layers import Input, Conv2D, Dense, Flatten, BatchNormalization, LeakyReLU, ReLU, Reshape, Conv2DTranspose\n",
    "from tensorflow.keras.optimizers.legacy import Adam\n",
    "from tensorflow.keras.losses import BinaryCrossentropy\n",
    "\n",
    "tf.keras.utils.set_random_seed(1)\n",
    "\n",
    "latent_dim = 100\n",
    "image_size = 128\n",
    "batch_size = 32\n",
    "dataset_folder = \"dataset\"\n",
    "trained_models_folder = \"trained_models\"\n",
    "generated_images_folder = \"generated_images\"\n",
    "\n",
    "gen_optimizer = disc_optimizer = Adam(0.0002, 0.5)\n",
    "binary_cross_entropy = tf.keras.losses.BinaryCrossentropy()"
   ]
  },
  {
   "cell_type": "markdown",
   "id": "17178c99-5c27-46b0-ad59-69871631adef",
   "metadata": {
    "execution": {
     "iopub.execute_input": "2024-04-06T13:31:37.756137Z",
     "iopub.status.busy": "2024-04-06T13:31:37.755753Z",
     "iopub.status.idle": "2024-04-06T13:31:37.760069Z",
     "shell.execute_reply": "2024-04-06T13:31:37.759244Z",
     "shell.execute_reply.started": "2024-04-06T13:31:37.756107Z"
    },
    "tags": []
   },
   "source": [
    "## Additional augmentation"
   ]
  },
  {
   "cell_type": "code",
   "execution_count": 2,
   "id": "3794e792-d041-484a-a46c-758514507a2a",
   "metadata": {
    "execution": {
     "iopub.execute_input": "2024-04-07T08:09:57.564031Z",
     "iopub.status.busy": "2024-04-07T08:09:57.563362Z",
     "iopub.status.idle": "2024-04-07T08:09:57.582441Z",
     "shell.execute_reply": "2024-04-07T08:09:57.581450Z",
     "shell.execute_reply.started": "2024-04-07T08:09:57.564000Z"
    },
    "tags": []
   },
   "outputs": [],
   "source": [
    "def DiffAugment(x, policy='', channels_first=False):\n",
    "    if policy:\n",
    "        if channels_first:\n",
    "            x = tf.transpose(x, [0, 2, 3, 1])\n",
    "        for p in policy.split(','):\n",
    "            for f in AUGMENT_FNS[p]:\n",
    "                x = f(x)\n",
    "        if channels_first:\n",
    "            x = tf.transpose(x, [0, 3, 1, 2])\n",
    "    return x\n",
    "\n",
    "\n",
    "def rand_brightness(x):\n",
    "    magnitude = tf.random.uniform([tf.shape(x)[0], 1, 1, 1]) - 0.5\n",
    "    x = x + magnitude\n",
    "    return x\n",
    "\n",
    "\n",
    "def rand_saturation(x):\n",
    "    magnitude = tf.random.uniform([tf.shape(x)[0], 1, 1, 1]) * 2\n",
    "    x_mean = tf.reduce_mean(x, axis=3, keepdims=True)\n",
    "    x = (x - x_mean) * magnitude + x_mean\n",
    "    return x\n",
    "\n",
    "\n",
    "def rand_contrast(x):\n",
    "    magnitude = tf.random.uniform([tf.shape(x)[0], 1, 1, 1]) + 0.5\n",
    "    x_mean = tf.reduce_mean(x, axis=[1, 2, 3], keepdims=True)\n",
    "    x = (x - x_mean) * magnitude + x_mean\n",
    "    return x\n",
    "\n",
    "\n",
    "def rand_translation(x, ratio=0.125):\n",
    "    batch_size = tf.shape(x)[0]\n",
    "    image_size = tf.shape(x)[1:3]\n",
    "    shift = tf.cast(tf.cast(image_size, tf.float32) * ratio + 0.5, tf.int32)\n",
    "    translation_x = tf.random.uniform([batch_size, 1], -shift[0], shift[0] + 1, dtype=tf.int32)\n",
    "    translation_y = tf.random.uniform([batch_size, 1], -shift[1], shift[1] + 1, dtype=tf.int32)\n",
    "    grid_x = tf.clip_by_value(tf.expand_dims(tf.range(image_size[0], dtype=tf.int32), 0) + translation_x + 1, 0,\n",
    "                              image_size[0] + 1)\n",
    "    grid_y = tf.clip_by_value(tf.expand_dims(tf.range(image_size[1], dtype=tf.int32), 0) + translation_y + 1, 0,\n",
    "                              image_size[1] + 1)\n",
    "    x = tf.gather_nd(tf.pad(x, [[0, 0], [1, 1], [0, 0], [0, 0]]), tf.expand_dims(grid_x, -1), batch_dims=1)\n",
    "    x = tf.transpose(tf.gather_nd(tf.pad(tf.transpose(x, [0, 2, 1, 3]), [[0, 0], [1, 1], [0, 0], [0, 0]]),\n",
    "                                  tf.expand_dims(grid_y, -1), batch_dims=1), [0, 2, 1, 3])\n",
    "    return x\n",
    "\n",
    "\n",
    "def rand_cutout(x, ratio=0.5):\n",
    "    batch_size = tf.shape(x)[0]\n",
    "    image_size = tf.shape(x)[1:3]\n",
    "    cutout_size = tf.cast(tf.cast(image_size, tf.float32) * ratio + 0.5, tf.int32)\n",
    "    offset_x = tf.random.uniform([tf.shape(x)[0], 1, 1], maxval=image_size[0] + (1 - cutout_size[0] % 2),\n",
    "                                 dtype=tf.int32)\n",
    "    offset_y = tf.random.uniform([tf.shape(x)[0], 1, 1], maxval=image_size[1] + (1 - cutout_size[1] % 2),\n",
    "                                 dtype=tf.int32)\n",
    "    grid_batch, grid_x, grid_y = tf.meshgrid(tf.range(batch_size, dtype=tf.int32),\n",
    "                                             tf.range(cutout_size[0], dtype=tf.int32),\n",
    "                                             tf.range(cutout_size[1], dtype=tf.int32), indexing='ij')\n",
    "    cutout_grid = tf.stack(\n",
    "        [grid_batch, grid_x + offset_x - cutout_size[0] // 2, grid_y + offset_y - cutout_size[1] // 2], axis=-1)\n",
    "    mask_shape = tf.stack([batch_size, image_size[0], image_size[1]])\n",
    "    cutout_grid = tf.maximum(cutout_grid, 0)\n",
    "    cutout_grid = tf.minimum(cutout_grid, tf.reshape(mask_shape - 1, [1, 1, 1, 3]))\n",
    "    mask = tf.maximum(\n",
    "        1 - tf.scatter_nd(cutout_grid, tf.ones([batch_size, cutout_size[0], cutout_size[1]], dtype=tf.float32),\n",
    "                          mask_shape), 0)\n",
    "    x = x * tf.expand_dims(mask, axis=3)\n",
    "    return x\n",
    "\n",
    "\n",
    "AUGMENT_FNS = {\n",
    "    'color': [rand_brightness, rand_saturation, rand_contrast],\n",
    "    'translation': [rand_translation],\n",
    "    'cutout': [rand_cutout],\n",
    "}"
   ]
  },
  {
   "cell_type": "markdown",
   "id": "56d029ff-52a6-462e-ae56-8ade430c818d",
   "metadata": {},
   "source": [
    "## Load dataset"
   ]
  },
  {
   "cell_type": "code",
   "execution_count": 3,
   "id": "d145a256-a817-4c7e-859c-8a6e342b8859",
   "metadata": {
    "execution": {
     "iopub.execute_input": "2024-04-07T08:09:57.583957Z",
     "iopub.status.busy": "2024-04-07T08:09:57.583576Z",
     "iopub.status.idle": "2024-04-07T08:09:57.602233Z",
     "shell.execute_reply": "2024-04-07T08:09:57.601473Z",
     "shell.execute_reply.started": "2024-04-07T08:09:57.583926Z"
    },
    "tags": []
   },
   "outputs": [],
   "source": [
    "def get_dataset(folder, image_size, batch_size):\n",
    "    ds = tf.keras.utils.image_dataset_from_directory(\n",
    "        f'{os.getcwd()}/{folder}',\n",
    "        image_size=(image_size, image_size),\n",
    "        labels='inferred',\n",
    "        batch_size=1,\n",
    "    )\n",
    "    \n",
    "    def transform_data(image, label):\n",
    "        return (image[0] - 127.5) / 127.5\n",
    "    \n",
    "    ds = ds.map(transform_data)\n",
    "    ds = ds.batch(batch_size)\n",
    "    \n",
    "    return ds"
   ]
  },
  {
   "cell_type": "markdown",
   "id": "ab38dac2-e038-4425-a650-0a61e958ed02",
   "metadata": {},
   "source": [
    "## Generate images"
   ]
  },
  {
   "cell_type": "code",
   "execution_count": 4,
   "id": "8026e6df-17b3-45f7-9d10-943df254681a",
   "metadata": {
    "execution": {
     "iopub.execute_input": "2024-04-07T08:09:57.605251Z",
     "iopub.status.busy": "2024-04-07T08:09:57.604921Z",
     "iopub.status.idle": "2024-04-07T08:09:57.610093Z",
     "shell.execute_reply": "2024-04-07T08:09:57.609309Z",
     "shell.execute_reply.started": "2024-04-07T08:09:57.605224Z"
    },
    "tags": []
   },
   "outputs": [],
   "source": [
    "def generate_and_save_images(model, epoch, seed):\n",
    "    generated_images = model(seed)\n",
    "    plt.figure(figsize=(5, 5))\n",
    "    for i in range(generated_images.shape[0]):\n",
    "        plt.subplot(5, 5, i+1)\n",
    "        img = preprocessing.image.array_to_img((generated_images[i] + 1 / 2))\n",
    "        plt.imshow(img)\n",
    "        plt.xticks([])\n",
    "        plt.yticks([])\n",
    "    plt.tight_layout()\n",
    "    plt.savefig(f'{generated_images_folder}/generated_image_epoch_{epoch}.png')\n",
    "    plt.close()"
   ]
  },
  {
   "cell_type": "markdown",
   "id": "590ad65e-3258-4d3e-a516-35b2a83b1d74",
   "metadata": {},
   "source": [
    "## Generator architecture"
   ]
  },
  {
   "cell_type": "code",
   "execution_count": 5,
   "id": "88b0067a-05d8-4436-9035-36f0ad27c7df",
   "metadata": {
    "execution": {
     "iopub.execute_input": "2024-04-07T08:09:57.613651Z",
     "iopub.status.busy": "2024-04-07T08:09:57.613199Z",
     "iopub.status.idle": "2024-04-07T08:09:58.477575Z",
     "shell.execute_reply": "2024-04-07T08:09:58.476772Z",
     "shell.execute_reply.started": "2024-04-07T08:09:57.613611Z"
    },
    "scrolled": true,
    "tags": []
   },
   "outputs": [
    {
     "name": "stderr",
     "output_type": "stream",
     "text": [
      "2024-04-07 08:09:57.782767: I external/local_xla/xla/stream_executor/cuda/cuda_executor.cc:901] successful NUMA node read from SysFS had negative value (-1), but there must be at least one NUMA node, so returning NUMA node zero. See more at https://github.com/torvalds/linux/blob/v6.0/Documentation/ABI/testing/sysfs-bus-pci#L344-L355\n"
     ]
    },
    {
     "name": "stdout",
     "output_type": "stream",
     "text": [
      "Model: \"sequential\"\n",
      "_________________________________________________________________\n",
      " Layer (type)                Output Shape              Param #   \n",
      "=================================================================\n",
      " dense (Dense)               (None, 65536)             6619136   \n",
      "                                                                 \n",
      " reshape (Reshape)           (None, 8, 8, 1024)        0         \n",
      "                                                                 \n",
      " conv2d_transpose (Conv2DTr  (None, 16, 16, 512)       13107200  \n",
      " anspose)                                                        \n",
      "                                                                 \n",
      " batch_normalization (Batch  (None, 16, 16, 512)       2048      \n",
      " Normalization)                                                  \n",
      "                                                                 \n",
      " re_lu (ReLU)                (None, 16, 16, 512)       0         \n",
      "                                                                 \n",
      " conv2d_transpose_1 (Conv2D  (None, 32, 32, 256)       3276800   \n",
      " Transpose)                                                      \n",
      "                                                                 \n",
      " batch_normalization_1 (Bat  (None, 32, 32, 256)       1024      \n",
      " chNormalization)                                                \n",
      "                                                                 \n",
      " re_lu_1 (ReLU)              (None, 32, 32, 256)       0         \n",
      "                                                                 \n",
      " conv2d_transpose_2 (Conv2D  (None, 64, 64, 128)       819200    \n",
      " Transpose)                                                      \n",
      "                                                                 \n",
      " batch_normalization_2 (Bat  (None, 64, 64, 128)       512       \n",
      " chNormalization)                                                \n",
      "                                                                 \n",
      " re_lu_2 (ReLU)              (None, 64, 64, 128)       0         \n",
      "                                                                 \n",
      " conv2d_transpose_3 (Conv2D  (None, 128, 128, 64)      204800    \n",
      " Transpose)                                                      \n",
      "                                                                 \n",
      " batch_normalization_3 (Bat  (None, 128, 128, 64)      256       \n",
      " chNormalization)                                                \n",
      "                                                                 \n",
      " re_lu_3 (ReLU)              (None, 128, 128, 64)      0         \n",
      "                                                                 \n",
      " conv2d (Conv2D)             (None, 128, 128, 3)       4800      \n",
      "                                                                 \n",
      "=================================================================\n",
      "Total params: 24035776 (91.69 MB)\n",
      "Trainable params: 24033856 (91.68 MB)\n",
      "Non-trainable params: 1920 (7.50 KB)\n",
      "_________________________________________________________________\n"
     ]
    },
    {
     "name": "stderr",
     "output_type": "stream",
     "text": [
      "2024-04-07 08:09:57.834156: I external/local_xla/xla/stream_executor/cuda/cuda_executor.cc:901] successful NUMA node read from SysFS had negative value (-1), but there must be at least one NUMA node, so returning NUMA node zero. See more at https://github.com/torvalds/linux/blob/v6.0/Documentation/ABI/testing/sysfs-bus-pci#L344-L355\n",
      "2024-04-07 08:09:57.837373: I external/local_xla/xla/stream_executor/cuda/cuda_executor.cc:901] successful NUMA node read from SysFS had negative value (-1), but there must be at least one NUMA node, so returning NUMA node zero. See more at https://github.com/torvalds/linux/blob/v6.0/Documentation/ABI/testing/sysfs-bus-pci#L344-L355\n",
      "2024-04-07 08:09:57.840984: I external/local_xla/xla/stream_executor/cuda/cuda_executor.cc:901] successful NUMA node read from SysFS had negative value (-1), but there must be at least one NUMA node, so returning NUMA node zero. See more at https://github.com/torvalds/linux/blob/v6.0/Documentation/ABI/testing/sysfs-bus-pci#L344-L355\n",
      "2024-04-07 08:09:57.844090: I external/local_xla/xla/stream_executor/cuda/cuda_executor.cc:901] successful NUMA node read from SysFS had negative value (-1), but there must be at least one NUMA node, so returning NUMA node zero. See more at https://github.com/torvalds/linux/blob/v6.0/Documentation/ABI/testing/sysfs-bus-pci#L344-L355\n",
      "2024-04-07 08:09:57.846792: I external/local_xla/xla/stream_executor/cuda/cuda_executor.cc:901] successful NUMA node read from SysFS had negative value (-1), but there must be at least one NUMA node, so returning NUMA node zero. See more at https://github.com/torvalds/linux/blob/v6.0/Documentation/ABI/testing/sysfs-bus-pci#L344-L355\n",
      "2024-04-07 08:09:58.007392: I external/local_xla/xla/stream_executor/cuda/cuda_executor.cc:901] successful NUMA node read from SysFS had negative value (-1), but there must be at least one NUMA node, so returning NUMA node zero. See more at https://github.com/torvalds/linux/blob/v6.0/Documentation/ABI/testing/sysfs-bus-pci#L344-L355\n",
      "2024-04-07 08:09:58.008643: I external/local_xla/xla/stream_executor/cuda/cuda_executor.cc:901] successful NUMA node read from SysFS had negative value (-1), but there must be at least one NUMA node, so returning NUMA node zero. See more at https://github.com/torvalds/linux/blob/v6.0/Documentation/ABI/testing/sysfs-bus-pci#L344-L355\n",
      "2024-04-07 08:09:58.009709: I external/local_xla/xla/stream_executor/cuda/cuda_executor.cc:901] successful NUMA node read from SysFS had negative value (-1), but there must be at least one NUMA node, so returning NUMA node zero. See more at https://github.com/torvalds/linux/blob/v6.0/Documentation/ABI/testing/sysfs-bus-pci#L344-L355\n",
      "2024-04-07 08:09:58.010694: I tensorflow/core/common_runtime/gpu/gpu_device.cc:1929] Created device /job:localhost/replica:0/task:0/device:GPU:0 with 13775 MB memory:  -> device: 0, name: Tesla T4, pci bus id: 0000:00:1e.0, compute capability: 7.5\n",
      "/opt/saturncloud/envs/saturn/lib/python3.10/site-packages/keras/src/initializers/initializers.py:120: UserWarning: The initializer RandomNormal is unseeded and being called multiple times, which will return identical values each time (even if the initializer is unseeded). Please update your code to provide a seed to the initializer, or avoid using the same initializer instance more than once.\n",
      "  warnings.warn(\n"
     ]
    }
   ],
   "source": [
    "initializer = tf.keras.initializers.RandomNormal(mean=0.0, stddev=0.02)\n",
    "\n",
    "generator = Sequential([\n",
    "    Input(shape=(latent_dim,)),\n",
    "\n",
    "    Dense(8 * 8 * 1024),\n",
    "    Reshape((8, 8, 1024)),\n",
    "\n",
    "    Conv2DTranspose(512, kernel_size=(5, 5), strides=(2, 2), padding='same', kernel_initializer=initializer, use_bias=False),\n",
    "    BatchNormalization(momentum=0.1, epsilon=0.8, center=1.0, scale=0.02),\n",
    "    ReLU(),\n",
    "\n",
    "    Conv2DTranspose(256, kernel_size=(5, 5), strides=(2, 2), padding='same', kernel_initializer=initializer, use_bias=False),\n",
    "    BatchNormalization(momentum=0.1, epsilon=0.8, center=1.0, scale=0.02),\n",
    "    ReLU(),\n",
    "\n",
    "    Conv2DTranspose(128, kernel_size=(5, 5), strides=(2, 2), padding='same', kernel_initializer=initializer, use_bias=False),\n",
    "    BatchNormalization(momentum=0.1, epsilon=0.8, center=1.0, scale=0.02),\n",
    "    ReLU(),\n",
    "\n",
    "    Conv2DTranspose(64, kernel_size=(5, 5), strides=(2, 2), padding='same', kernel_initializer=initializer, use_bias=False),\n",
    "    BatchNormalization(momentum=0.1, epsilon=0.8, center=1.0, scale=0.02),\n",
    "    ReLU(),\n",
    "\n",
    "    Conv2D(3, kernel_size=(5, 5), strides=(1, 1), padding='same', kernel_initializer=initializer, use_bias=False, activation='tanh')\n",
    "])\n",
    "\n",
    "generator.summary()\n",
    "generator.compile(gen_optimizer, loss=binary_cross_entropy)"
   ]
  },
  {
   "cell_type": "markdown",
   "id": "3cf210aa-acf7-4785-b09d-64b1089b0c42",
   "metadata": {},
   "source": [
    "## Discriminator architecture"
   ]
  },
  {
   "cell_type": "code",
   "execution_count": 6,
   "id": "c8c0241c-bfa8-48f4-b547-e652cd77350e",
   "metadata": {
    "execution": {
     "iopub.execute_input": "2024-04-07T08:09:58.478952Z",
     "iopub.status.busy": "2024-04-07T08:09:58.478578Z",
     "iopub.status.idle": "2024-04-07T08:09:58.660533Z",
     "shell.execute_reply": "2024-04-07T08:09:58.659671Z",
     "shell.execute_reply.started": "2024-04-07T08:09:58.478924Z"
    },
    "scrolled": true,
    "tags": []
   },
   "outputs": [
    {
     "name": "stdout",
     "output_type": "stream",
     "text": [
      "Model: \"sequential_1\"\n",
      "_________________________________________________________________\n",
      " Layer (type)                Output Shape              Param #   \n",
      "=================================================================\n",
      " conv2d_1 (Conv2D)           (None, 64, 64, 64)        4800      \n",
      "                                                                 \n",
      " batch_normalization_4 (Bat  (None, 64, 64, 64)        256       \n",
      " chNormalization)                                                \n",
      "                                                                 \n",
      " leaky_re_lu (LeakyReLU)     (None, 64, 64, 64)        0         \n",
      "                                                                 \n",
      " conv2d_2 (Conv2D)           (None, 32, 32, 128)       204800    \n",
      "                                                                 \n",
      " batch_normalization_5 (Bat  (None, 32, 32, 128)       512       \n",
      " chNormalization)                                                \n",
      "                                                                 \n",
      " leaky_re_lu_1 (LeakyReLU)   (None, 32, 32, 128)       0         \n",
      "                                                                 \n",
      " conv2d_3 (Conv2D)           (None, 16, 16, 256)       819200    \n",
      "                                                                 \n",
      " batch_normalization_6 (Bat  (None, 16, 16, 256)       1024      \n",
      " chNormalization)                                                \n",
      "                                                                 \n",
      " leaky_re_lu_2 (LeakyReLU)   (None, 16, 16, 256)       0         \n",
      "                                                                 \n",
      " conv2d_4 (Conv2D)           (None, 8, 8, 512)         3276800   \n",
      "                                                                 \n",
      " batch_normalization_7 (Bat  (None, 8, 8, 512)         2048      \n",
      " chNormalization)                                                \n",
      "                                                                 \n",
      " leaky_re_lu_3 (LeakyReLU)   (None, 8, 8, 512)         0         \n",
      "                                                                 \n",
      " conv2d_5 (Conv2D)           (None, 4, 4, 1024)        13107200  \n",
      "                                                                 \n",
      " batch_normalization_8 (Bat  (None, 4, 4, 1024)        4096      \n",
      " chNormalization)                                                \n",
      "                                                                 \n",
      " leaky_re_lu_4 (LeakyReLU)   (None, 4, 4, 1024)        0         \n",
      "                                                                 \n",
      " flatten (Flatten)           (None, 16384)             0         \n",
      "                                                                 \n",
      " dense_1 (Dense)             (None, 1)                 16385     \n",
      "                                                                 \n",
      "=================================================================\n",
      "Total params: 17437121 (66.52 MB)\n",
      "Trainable params: 17433153 (66.50 MB)\n",
      "Non-trainable params: 3968 (15.50 KB)\n",
      "_________________________________________________________________\n"
     ]
    }
   ],
   "source": [
    "initializer = tf.keras.initializers.RandomNormal(mean=0.0, stddev=0.02)\n",
    "\n",
    "discriminator = Sequential([\n",
    "    Input(shape=(128, 128, 3)),\n",
    "\n",
    "    Conv2D(64, kernel_size=(5, 5), strides=(2, 2), padding=\"same\",kernel_initializer=initializer, use_bias=False),\n",
    "    BatchNormalization(momentum=0.1, epsilon=0.8, center=1.0, scale=0.02),\n",
    "    LeakyReLU(0.2),\n",
    "\n",
    "    Conv2D(128, kernel_size=(5, 5), strides=(2, 2), padding=\"same\", kernel_initializer=initializer, use_bias=False),\n",
    "    BatchNormalization(momentum=0.1, epsilon=0.8, center=1.0, scale=0.02),\n",
    "    LeakyReLU(0.2),\n",
    "\n",
    "    Conv2D(256, kernel_size=(5, 5), strides=(2, 2), padding=\"same\", kernel_initializer=initializer, use_bias=False),\n",
    "    BatchNormalization(momentum=0.1, epsilon=0.8, center=1.0, scale=0.02),\n",
    "    LeakyReLU(0.2),\n",
    "\n",
    "    Conv2D(512, kernel_size=(5, 5), strides=(2, 2), padding=\"same\", kernel_initializer=initializer, use_bias=False),\n",
    "    BatchNormalization(momentum=0.1, epsilon=0.8, center=1.0, scale=0.02),\n",
    "    LeakyReLU(0.2),\n",
    "\n",
    "    Conv2D(1024, kernel_size=(5, 5), strides=(2, 2), padding=\"same\", kernel_initializer=initializer, use_bias=False),\n",
    "    BatchNormalization(momentum=0.1, epsilon=0.8, center=1.0, scale=0.02),\n",
    "    LeakyReLU(0.2),\n",
    "\n",
    "    Flatten(),\n",
    "    Dense(1, activation='sigmoid')\n",
    "])\n",
    "\n",
    "discriminator.summary()\n",
    "discriminator.compile(disc_optimizer, loss=binary_cross_entropy)"
   ]
  },
  {
   "cell_type": "markdown",
   "id": "7a99c9b6-a5c9-4a47-a6dc-f34aa9067d78",
   "metadata": {
    "tags": []
   },
   "source": [
    "## Visualize mini batch"
   ]
  },
  {
   "cell_type": "code",
   "execution_count": 7,
   "id": "3875585c-6784-436f-9406-4ecf67b8c551",
   "metadata": {
    "execution": {
     "iopub.execute_input": "2024-04-07T08:09:58.662012Z",
     "iopub.status.busy": "2024-04-07T08:09:58.661686Z",
     "iopub.status.idle": "2024-04-07T08:10:01.277119Z",
     "shell.execute_reply": "2024-04-07T08:10:01.276400Z",
     "shell.execute_reply.started": "2024-04-07T08:09:58.661987Z"
    },
    "tags": []
   },
   "outputs": [
    {
     "name": "stdout",
     "output_type": "stream",
     "text": [
      "Found 1060 files belonging to 1 classes.\n"
     ]
    },
    {
     "name": "stderr",
     "output_type": "stream",
     "text": [
      "2024-04-07 08:09:58.820327: I external/local_tsl/tsl/platform/default/subprocess.cc:304] Start cannot spawn child process: No such file or directory\n",
      "Clipping input data to the valid range for imshow with RGB data ([0..1] for floats or [0..255] for integers).\n",
      "Clipping input data to the valid range for imshow with RGB data ([0..1] for floats or [0..255] for integers).\n",
      "Clipping input data to the valid range for imshow with RGB data ([0..1] for floats or [0..255] for integers).\n",
      "Clipping input data to the valid range for imshow with RGB data ([0..1] for floats or [0..255] for integers).\n"
     ]
    },
    {
     "data": {
      "image/png": "[encoded data removed]",
      "text/plain": [
       "<Figure size 640x480 with 4 Axes>"
      ]
     },
     "metadata": {},
     "output_type": "display_data"
    }
   ],
   "source": [
    "dataset = get_dataset(dataset_folder, image_size, batch_size)\n",
    "for batch in dataset:\n",
    "    for i in range(4):\n",
    "        plt.subplot(2, 2, i+1)\n",
    "        plt.imshow((DiffAugment((batch.numpy() + 1) / 2, policy='color,translation,cutout'))[i])\n",
    "    break\n",
    "plt.show()"
   ]
  },
  {
   "cell_type": "markdown",
   "id": "6b76ed75-ae77-49ab-bef8-947a5e79611d",
   "metadata": {},
   "source": [
    "## Training step"
   ]
  },
  {
   "cell_type": "code",
   "execution_count": 8,
   "id": "d5297692-e09e-474b-ae74-6db82220e859",
   "metadata": {
    "execution": {
     "iopub.execute_input": "2024-04-07T08:10:01.278719Z",
     "iopub.status.busy": "2024-04-07T08:10:01.278210Z",
     "iopub.status.idle": "2024-04-07T08:10:01.286476Z",
     "shell.execute_reply": "2024-04-07T08:10:01.285811Z",
     "shell.execute_reply.started": "2024-04-07T08:10:01.278687Z"
    },
    "tags": []
   },
   "outputs": [],
   "source": [
    "@tf.function\n",
    "def train_step(images):\n",
    "    seed = tf.random.normal([batch_size, latent_dim])\n",
    "    images = DiffAugment(images, policy='color,translation,cutout')\n",
    "\n",
    "    # train discriminator\n",
    "    # pass real images to discriminator\n",
    "    with tf.GradientTape() as disc_tape1:\n",
    "        real_output = discriminator(images, training=True)\n",
    "        real_targets = tf.ones_like(real_output) * 0.9\n",
    "        disc_loss1 = binary_cross_entropy(real_targets, real_output)\n",
    "\n",
    "    # apply gradients\n",
    "    gradients_disc1 = disc_tape1.gradient(disc_loss1, discriminator.trainable_variables)\n",
    "    disc_optimizer.apply_gradients(zip(gradients_disc1, discriminator.trainable_variables))\n",
    "\n",
    "    # pass fake images to discriminator\n",
    "    with tf.GradientTape() as disc_tape2:\n",
    "        generated_images = generator(seed, training=True)\n",
    "        generated_images = DiffAugment(generated_images, policy='color,translation,cutout')\n",
    "\n",
    "        fake_output = discriminator(generated_images, training=True)\n",
    "        fake_targets = tf.zeros_like(fake_output)\n",
    "        disc_loss2 = binary_cross_entropy(fake_targets, fake_output)\n",
    "\n",
    "    # apply gradients\n",
    "    gradients_disc2 = disc_tape2.gradient(disc_loss2, discriminator.trainable_variables)\n",
    "    disc_optimizer.apply_gradients(zip(gradients_disc2, discriminator.trainable_variables))\n",
    "\n",
    "    # train generator\n",
    "    with tf.GradientTape() as gen_tape:\n",
    "        generated_images = generator(seed, training=True)\n",
    "        generated_images = DiffAugment(generated_images, policy='color,translation,cutout')\n",
    "        fake_output = discriminator(generated_images, training=True)\n",
    "        real_targets = tf.ones_like(fake_output)\n",
    "        gen_loss = binary_cross_entropy(real_targets, fake_output)\n",
    "\n",
    "    # apply gradients\n",
    "    gradients_gen = gen_tape.gradient(gen_loss, generator.trainable_variables)\n",
    "    gen_optimizer.apply_gradients(zip(gradients_gen, generator.trainable_variables))\n",
    "\n",
    "    return disc_loss1 + disc_loss2, gen_loss"
   ]
  },
  {
   "cell_type": "markdown",
   "id": "7752c355-ac9f-4e90-8d41-794dca65b3be",
   "metadata": {},
   "source": [
    "## Train GAN"
   ]
  },
  {
   "cell_type": "code",
   "execution_count": 9,
   "id": "375f6a6c-5fbe-4dbf-b77d-1446759b5e9c",
   "metadata": {
    "execution": {
     "iopub.execute_input": "2024-04-07T08:10:01.287653Z",
     "iopub.status.busy": "2024-04-07T08:10:01.287367Z",
     "iopub.status.idle": "2024-04-07T09:07:41.671812Z",
     "shell.execute_reply": "2024-04-07T09:07:41.671103Z",
     "shell.execute_reply.started": "2024-04-07T08:10:01.287629Z"
    },
    "scrolled": true,
    "tags": []
   },
   "outputs": [
    {
     "name": "stdout",
     "output_type": "stream",
     "text": [
      "Found 1060 files belonging to 1 classes.\n"
     ]
    },
    {
     "name": "stderr",
     "output_type": "stream",
     "text": [
      "2024-04-07 08:10:01.414590: I external/local_xla/xla/stream_executor/cuda/cuda_dnn.cc:454] Loaded cuDNN version 8904\n",
      "2024-04-07 08:10:01.460821: I external/local_tsl/tsl/platform/default/subprocess.cc:304] Start cannot spawn child process: No such file or directory\n"
     ]
    },
    {
     "name": "stdout",
     "output_type": "stream",
     "text": [
      "Training on epoch 1 (out of 200).\n",
      "Training on epoch 2 (out of 200).\n",
      "Training on epoch 3 (out of 200).\n",
      "Training on epoch 4 (out of 200).\n",
      "Training on epoch 5 (out of 200).\n",
      "Training on epoch 6 (out of 200).\n",
      "Training on epoch 7 (out of 200).\n",
      "Training on epoch 8 (out of 200).\n",
      "Training on epoch 9 (out of 200).\n",
      "Training on epoch 10 (out of 200).\n",
      "Training on epoch 11 (out of 200).\n",
      "Training on epoch 12 (out of 200).\n",
      "Training on epoch 13 (out of 200).\n",
      "Training on epoch 14 (out of 200).\n",
      "Training on epoch 15 (out of 200).\n",
      "Training on epoch 16 (out of 200).\n",
      "Training on epoch 17 (out of 200).\n",
      "Training on epoch 18 (out of 200).\n",
      "Training on epoch 19 (out of 200).\n",
      "Training on epoch 20 (out of 200).\n",
      "Training on epoch 21 (out of 200).\n",
      "Training on epoch 22 (out of 200).\n",
      "Training on epoch 23 (out of 200).\n",
      "Training on epoch 24 (out of 200).\n",
      "Training on epoch 25 (out of 200).\n",
      "Training on epoch 26 (out of 200).\n",
      "Training on epoch 27 (out of 200).\n",
      "Training on epoch 28 (out of 200).\n",
      "Training on epoch 29 (out of 200).\n",
      "Training on epoch 30 (out of 200).\n",
      "Training on epoch 31 (out of 200).\n",
      "Training on epoch 32 (out of 200).\n",
      "Training on epoch 33 (out of 200).\n",
      "Training on epoch 34 (out of 200).\n",
      "Training on epoch 35 (out of 200).\n",
      "Training on epoch 36 (out of 200).\n",
      "Training on epoch 37 (out of 200).\n",
      "Training on epoch 38 (out of 200).\n",
      "Training on epoch 39 (out of 200).\n",
      "Training on epoch 40 (out of 200).\n",
      "Training on epoch 41 (out of 200).\n",
      "Training on epoch 42 (out of 200).\n",
      "Training on epoch 43 (out of 200).\n",
      "Training on epoch 44 (out of 200).\n",
      "Training on epoch 45 (out of 200).\n",
      "Training on epoch 46 (out of 200).\n",
      "Training on epoch 47 (out of 200).\n",
      "Training on epoch 48 (out of 200).\n",
      "Training on epoch 49 (out of 200).\n",
      "Training on epoch 50 (out of 200).\n",
      "Training on epoch 51 (out of 200).\n",
      "Training on epoch 52 (out of 200).\n",
      "Training on epoch 53 (out of 200).\n",
      "Training on epoch 54 (out of 200).\n",
      "Training on epoch 55 (out of 200).\n",
      "Training on epoch 56 (out of 200).\n",
      "Training on epoch 57 (out of 200).\n",
      "Training on epoch 58 (out of 200).\n",
      "Training on epoch 59 (out of 200).\n",
      "Training on epoch 60 (out of 200).\n",
      "Training on epoch 61 (out of 200).\n",
      "Training on epoch 62 (out of 200).\n",
      "Training on epoch 63 (out of 200).\n",
      "Training on epoch 64 (out of 200).\n",
      "Training on epoch 65 (out of 200).\n",
      "Training on epoch 66 (out of 200).\n",
      "Training on epoch 67 (out of 200).\n",
      "Training on epoch 68 (out of 200).\n",
      "Training on epoch 69 (out of 200).\n",
      "Training on epoch 70 (out of 200).\n",
      "Training on epoch 71 (out of 200).\n",
      "Training on epoch 72 (out of 200).\n",
      "Training on epoch 73 (out of 200).\n",
      "Training on epoch 74 (out of 200).\n",
      "Training on epoch 75 (out of 200).\n",
      "Training on epoch 76 (out of 200).\n",
      "Training on epoch 77 (out of 200).\n",
      "Training on epoch 78 (out of 200).\n",
      "Training on epoch 79 (out of 200).\n",
      "Training on epoch 80 (out of 200).\n",
      "Training on epoch 81 (out of 200).\n",
      "Training on epoch 82 (out of 200).\n",
      "Training on epoch 83 (out of 200).\n",
      "Training on epoch 84 (out of 200).\n",
      "Training on epoch 85 (out of 200).\n",
      "Training on epoch 86 (out of 200).\n",
      "Training on epoch 87 (out of 200).\n",
      "Training on epoch 88 (out of 200).\n",
      "Training on epoch 89 (out of 200).\n",
      "Training on epoch 90 (out of 200).\n",
      "Training on epoch 91 (out of 200).\n",
      "Training on epoch 92 (out of 200).\n",
      "Training on epoch 93 (out of 200).\n",
      "Training on epoch 94 (out of 200).\n",
      "Training on epoch 95 (out of 200).\n",
      "Training on epoch 96 (out of 200).\n",
      "Training on epoch 97 (out of 200).\n",
      "Training on epoch 98 (out of 200).\n",
      "Training on epoch 99 (out of 200).\n",
      "Training on epoch 100 (out of 200).\n",
      "Training on epoch 101 (out of 200).\n",
      "Training on epoch 102 (out of 200).\n",
      "Training on epoch 103 (out of 200).\n",
      "Training on epoch 104 (out of 200).\n",
      "Training on epoch 105 (out of 200).\n",
      "Training on epoch 106 (out of 200).\n",
      "Training on epoch 107 (out of 200).\n",
      "Training on epoch 108 (out of 200).\n",
      "Training on epoch 109 (out of 200).\n",
      "Training on epoch 110 (out of 200).\n",
      "Training on epoch 111 (out of 200).\n",
      "Training on epoch 112 (out of 200).\n",
      "Training on epoch 113 (out of 200).\n",
      "Training on epoch 114 (out of 200).\n",
      "Training on epoch 115 (out of 200).\n",
      "Training on epoch 116 (out of 200).\n",
      "Training on epoch 117 (out of 200).\n",
      "Training on epoch 118 (out of 200).\n",
      "Training on epoch 119 (out of 200).\n",
      "Training on epoch 120 (out of 200).\n",
      "Training on epoch 121 (out of 200).\n",
      "Training on epoch 122 (out of 200).\n",
      "Training on epoch 123 (out of 200).\n",
      "Training on epoch 124 (out of 200).\n",
      "Training on epoch 125 (out of 200).\n",
      "Training on epoch 126 (out of 200).\n",
      "Training on epoch 127 (out of 200).\n",
      "Training on epoch 128 (out of 200).\n",
      "Training on epoch 129 (out of 200).\n",
      "Training on epoch 130 (out of 200).\n",
      "Training on epoch 131 (out of 200).\n",
      "Training on epoch 132 (out of 200).\n",
      "Training on epoch 133 (out of 200).\n",
      "Training on epoch 134 (out of 200).\n",
      "Training on epoch 135 (out of 200).\n",
      "Training on epoch 136 (out of 200).\n",
      "Training on epoch 137 (out of 200).\n",
      "Training on epoch 138 (out of 200).\n",
      "Training on epoch 139 (out of 200).\n",
      "Training on epoch 140 (out of 200).\n",
      "Training on epoch 141 (out of 200).\n",
      "Training on epoch 142 (out of 200).\n",
      "Training on epoch 143 (out of 200).\n",
      "Training on epoch 144 (out of 200).\n",
      "Training on epoch 145 (out of 200).\n",
      "Training on epoch 146 (out of 200).\n",
      "Training on epoch 147 (out of 200).\n",
      "Training on epoch 148 (out of 200).\n",
      "Training on epoch 149 (out of 200).\n",
      "Training on epoch 150 (out of 200).\n",
      "Training on epoch 151 (out of 200).\n",
      "Training on epoch 152 (out of 200).\n",
      "Training on epoch 153 (out of 200).\n",
      "Training on epoch 154 (out of 200).\n",
      "Training on epoch 155 (out of 200).\n",
      "Training on epoch 156 (out of 200).\n",
      "Training on epoch 157 (out of 200).\n",
      "Training on epoch 158 (out of 200).\n",
      "Training on epoch 159 (out of 200).\n",
      "Training on epoch 160 (out of 200).\n",
      "Training on epoch 161 (out of 200).\n",
      "Training on epoch 162 (out of 200).\n",
      "Training on epoch 163 (out of 200).\n",
      "Training on epoch 164 (out of 200).\n",
      "Training on epoch 165 (out of 200).\n",
      "Training on epoch 166 (out of 200).\n",
      "Training on epoch 167 (out of 200).\n",
      "Training on epoch 168 (out of 200).\n",
      "Training on epoch 169 (out of 200).\n",
      "Training on epoch 170 (out of 200).\n",
      "Training on epoch 171 (out of 200).\n",
      "Training on epoch 172 (out of 200).\n",
      "Training on epoch 173 (out of 200).\n",
      "Training on epoch 174 (out of 200).\n",
      "Training on epoch 175 (out of 200).\n",
      "Training on epoch 176 (out of 200).\n",
      "Training on epoch 177 (out of 200).\n",
      "Training on epoch 178 (out of 200).\n",
      "Training on epoch 179 (out of 200).\n",
      "Training on epoch 180 (out of 200).\n",
      "Training on epoch 181 (out of 200).\n",
      "Training on epoch 182 (out of 200).\n",
      "Training on epoch 183 (out of 200).\n",
      "Training on epoch 184 (out of 200).\n",
      "Training on epoch 185 (out of 200).\n",
      "Training on epoch 186 (out of 200).\n",
      "Training on epoch 187 (out of 200).\n",
      "Training on epoch 188 (out of 200).\n",
      "Training on epoch 189 (out of 200).\n",
      "Training on epoch 190 (out of 200).\n",
      "Training on epoch 191 (out of 200).\n",
      "Training on epoch 192 (out of 200).\n",
      "Training on epoch 193 (out of 200).\n",
      "Training on epoch 194 (out of 200).\n",
      "Training on epoch 195 (out of 200).\n",
      "Training on epoch 196 (out of 200).\n",
      "Training on epoch 197 (out of 200).\n",
      "Training on epoch 198 (out of 200).\n",
      "Training on epoch 199 (out of 200).\n",
      "Training on epoch 200 (out of 200).\n"
     ]
    },
    {
     "name": "stderr",
     "output_type": "stream",
     "text": [
      "/opt/saturncloud/envs/saturn/lib/python3.10/site-packages/keras/src/engine/training.py:3103: UserWarning: You are saving your model as an HDF5 file via `model.save()`. This file format is considered legacy. We recommend using instead the native Keras format, e.g. `model.save('my_model.keras')`.\n",
      "  saving_api.save_model(\n"
     ]
    }
   ],
   "source": [
    "dataset = get_dataset(dataset_folder, image_size, batch_size)\n",
    "\n",
    "seed = tf.random.normal([25, latent_dim])\n",
    "disc_losses = []\n",
    "gen_losses = []\n",
    "\n",
    "def train(dataset, epochs):\n",
    "    generate_and_save_images(generator, 0, seed)\n",
    "    for epoch in range(epochs):\n",
    "        print(f'Training on epoch {epoch+1} (out of {epochs}).')\n",
    "        for image_batch in dataset:\n",
    "            losses = train_step(image_batch)\n",
    "            disc_loss = losses[0]\n",
    "            gen_loss = losses[1]\n",
    "        \n",
    "        gen_losses.append(gen_loss.numpy())\n",
    "        disc_losses.append(disc_loss.numpy())\n",
    "\n",
    "        if epoch % 50 == 0:\n",
    "            generate_and_save_images(generator, epoch+1, seed)\n",
    "\n",
    "    generate_and_save_images(generator, epochs, seed)\n",
    "    discriminator.save(f'{trained_models_folder}/discriminator_epoch_{epochs}.h5')\n",
    "    generator.save(f'{trained_models_folder}/generator_epoch_{epochs}.h5')\n",
    "\n",
    "train(dataset, 200)"
   ]
  },
  {
   "cell_type": "markdown",
   "id": "14eb8577-9fee-4aec-9942-687c6e06eec3",
   "metadata": {},
   "source": [
    "## Save losses"
   ]
  },
  {
   "cell_type": "code",
   "execution_count": 11,
   "id": "06822029-2183-495f-adf4-911e7cffc8c7",
   "metadata": {
    "execution": {
     "iopub.execute_input": "2024-04-07T09:17:43.726030Z",
     "iopub.status.busy": "2024-04-07T09:17:43.725628Z",
     "iopub.status.idle": "2024-04-07T09:17:43.731185Z",
     "shell.execute_reply": "2024-04-07T09:17:43.730315Z",
     "shell.execute_reply.started": "2024-04-07T09:17:43.726002Z"
    },
    "tags": []
   },
   "outputs": [],
   "source": [
    "import csv\n",
    "\n",
    "zip_losses = list(zip(disc_losses, gen_losses))\n",
    "\n",
    "headers = ['Discriminator Loss', 'Generator Loss']\n",
    "\n",
    "with open('losses.csv', 'w', newline='') as csvfile:\n",
    "    writer = csv.writer(csvfile)\n",
    "    writer.writerow(headers)\n",
    "    writer.writerows(zip_losses)"
   ]
  },
  {
   "cell_type": "code",
   "execution_count": null,
   "id": "d446e81f-0004-4dd9-9216-690235844065",
   "metadata": {},
   "outputs": [],
   "source": []
  }
 ],
 "metadata": {
  "kernelspec": {
   "display_name": "saturn (Python 3)",
   "language": "python",
   "name": "python3"
  },
  "language_info": {
   "codemirror_mode": {
    "name": "ipython",
    "version": 3
   },
   "file_extension": ".py",
   "mimetype": "text/x-python",
   "name": "python",
   "nbconvert_exporter": "python",
   "pygments_lexer": "ipython3",
   "version": "3.10.13"
  }
 },
 "nbformat": 4,
 "nbformat_minor": 5
}
